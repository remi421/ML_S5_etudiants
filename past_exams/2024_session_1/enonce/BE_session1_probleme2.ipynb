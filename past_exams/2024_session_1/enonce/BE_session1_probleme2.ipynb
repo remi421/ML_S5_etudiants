{
  "cells": [
    {
      "cell_type": "markdown",
      "source": [
        "# Problème: un VIT pour du denoising"
      ],
      "metadata": {
        "id": "-1ciEeyNevrd"
      }
    },
    {
      "cell_type": "markdown",
      "source": [
        "Depuis 2017, les **transformers** ont gagné en popularité. Ces réseaux de neurones très performants font intervenir un type de couche qui n'a pas été décrit en TP: la couche \"attentionnelle\". Ce problème présente un VIsual Transformer (VIT) très simple."
      ],
      "metadata": {
        "id": "CAkaS7_je3Is"
      }
    },
    {
      "cell_type": "markdown",
      "source": [
        "Pour entraîner notre premier transformer, nous reprenons le contexte d'une tâche de denoising (TP3). Les lignes de code suivantes permettent de visualiser les entrées et les cibles:"
      ],
      "metadata": {
        "id": "J5SamHaEIxk8"
      }
    },
    {
      "cell_type": "code",
      "execution_count": 1,
      "metadata": {
        "id": "wqz7U32_LjwB"
      },
      "outputs": [],
      "source": [
        "import os"
      ]
    },
    {
      "cell_type": "code",
      "source": [
        "import torch\n",
        "import numpy as np\n",
        "from random import randint\n",
        "import matplotlib.pyplot as plt\n",
        "import os\n",
        "#############################################################\n",
        "#pour la visualisation des images ###########################\n",
        "#############################################################\n",
        "\n",
        "def voir_mat(data2, fig, min_scale=-10,max_scale=70):\n",
        "\n",
        "    ax = fig.add_subplot(1,1,1)\n",
        "    ax.set_aspect('equal')\n",
        "    plt.imshow(data2, interpolation='nearest', cmap=plt.cm.rainbow) #cmap=plt.cm.ocean)\n",
        "    plt.clim(min_scale,max_scale)\n",
        "    plt.colorbar()\n",
        "    plt.show()\n",
        "\n",
        "def voir_tens(image, fig, min_scale=-1,max_scale=1):\n",
        "    im=image[0,0,:,:].numpy()\n",
        "    ax = fig.add_subplot(1,1,1)\n",
        "    ax.set_aspect('equal')\n",
        "    plt.imshow(im, interpolation='nearest',  cmap=plt.cm.rainbow) #cmap=plt.cm.ocean)\n",
        "    plt.clim(min_scale,max_scale)\n",
        "    plt.colorbar()\n",
        "    plt.show()\n",
        "\n",
        "def conc(image1,image2,dim=3):\n",
        "    return torch.cat((image1,image2), dim) #, out=None)\n",
        "\n",
        "def multi_conc(L,dim=1,ecart=5, min_scale=0.5):\n",
        "    image1=L[0]\n",
        "    for i in range(1, len(L)):\n",
        "        if dim==1:\n",
        "            sep=  min_scale + 0*image1[:,0:ecart]\n",
        "        elif dim==0:\n",
        "            sep=  min_scale + 0*image1[0:ecart,:]\n",
        "        image1=conc(image1,sep,dim)\n",
        "        image2=L[i]\n",
        "        image1=conc(image1,image2,dim=dim)\n",
        "    return image1\n",
        "\n",
        "def images_from_tenseur(tens, k=0):\n",
        "    len_batch=tens.shape[0]\n",
        "    L=[]\n",
        "    for i in range(len_batch):\n",
        "        L.append(tens[i,k,:,:])\n",
        "    return L\n",
        "\n",
        "def voir_batch2D(tens, nx, fig,k=0, min_scale=-10,max_scale=1):\n",
        "    s = 0.5*(min_scale + max_scale)\n",
        "    L=images_from_tenseur(tens,k)\n",
        "    image1=multi_conc(L[0:nx],dim=1, min_scale=s)\n",
        "    for i in range(1,int(len(L)/nx)):\n",
        "        image2=multi_conc(L[i*nx:(i+1)*nx],dim=1, min_scale=s)\n",
        "        image1=multi_conc([image1,image2],dim=0, min_scale=s)\n",
        "    voir_mat(image1, fig, min_scale,max_scale)\n",
        "\n",
        "\n",
        "#############################################################\n",
        "#pour la génération des images    ###########################\n",
        "#############################################################\n",
        "\n",
        "def simu_rec(image, L,l,  fields=0):\n",
        "    channels,size,size2=image.size()\n",
        "    rec= torch.zeros(channels,size,size2)\n",
        "    #out = 0*(image.clone())\n",
        "    vertical=np.random.binomial(1,0.5)==1\n",
        "    if vertical:\n",
        "        width=l\n",
        "        height=L\n",
        "    else:\n",
        "        width=L\n",
        "        height=l\n",
        "\n",
        "    top=randint(0, size-height)\n",
        "    left=randint(0, size-width)\n",
        "    rec[fields,top:top+height,left:left+width] = np.random.uniform(0,0.4)   #0.1\n",
        "    image=image + rec\n",
        "    return image\n",
        "\n",
        "def simu_noisy_rec(image, L,l,  fields=0):\n",
        "    channels,size,size2=image.size()\n",
        "    rec= torch.zeros(channels,size,size2)\n",
        "    #out = 0*(image.clone())\n",
        "    vertical=np.random.binomial(1,0.5)==1\n",
        "    if vertical:\n",
        "        width=l\n",
        "        height=L\n",
        "    else:\n",
        "        width=L\n",
        "        height=l\n",
        "\n",
        "    top=randint(0, size-height)\n",
        "    left=randint(0, size-width)\n",
        "    rec[fields,top:top+height,left:left+width]= np.random.uniform(0,0.4)  #0.1\n",
        "    noise=torch.randn(channels,size,size2)\n",
        "    noise=noise*(noise>0).float()\n",
        "    rec=noise*rec\n",
        "    image=image + rec\n",
        "    return image\n",
        "\n",
        "def simu_disc(image, f, radius=15, fields=0 ):  #radial decrease function  #or 12\n",
        "    channels,size,size2=image.size()\n",
        "    center=np.array([randint(radius, size-radius) , randint(radius, size-radius) ])\n",
        "    npdisc= f( ((np.arange(0,64)*np.ones([size,size])) - center[0])**2 + (np.transpose(np.arange(0,64)*np.ones([size,size]))-center[1])**2  , radius)\n",
        "    npdisc=np.random.uniform(0.6,1.) * npdisc  #variation on intensity\n",
        "    image[fields,:,:] = image[fields,:,:] + torch.from_numpy(npdisc).float()   #matrice des distances < rayon\n",
        "    return image\n",
        "\n",
        "def simu_disc_with_cond(image, f, radius=15, fields=0, f2 = lambda a,x  : ((np.sin(3.1 * a/x**2)))*(a < x**2) ):  #radial decrease function  #or 12\n",
        "    channels,size,size2=image.size()\n",
        "    center=np.array([randint(radius-5, size-radius+2) , randint(radius-2, size-radius+5) ])\n",
        "    npdisc= f( ((np.arange(0,64)*np.ones([size,size])) - center[0])**2 + (np.transpose(np.arange(0,64)*np.ones([size,size]))-center[1])**2  , radius)\n",
        "    npdisc=np.random.uniform(0.6,1.) * npdisc  #variation on intensity\n",
        "    image[0,:,:] = image[0,:,:] + torch.from_numpy(npdisc).float()   #matrice des distances < rayon\n",
        "    if (radius >= 10) and (radius <= 14):\n",
        "        npdon = f2( ((np.arange(0,64)*np.ones([size,size])) - center[0])**2 + (np.transpose(np.arange(0,64)*np.ones([size,size]))-center[1])**2  , radius)\n",
        "        image[1,:,:] = image[1,:,:] + torch.from_numpy(npdon).float()**2\n",
        "    return image\n",
        "\n",
        "\n",
        "def simu_square(image, f, diag=15, fields=0 ):  #radial decrease function  #or 12\n",
        "    channels,size,size2 = image.size()\n",
        "    center=np.array([randint(diag, size-diag) , randint(diag, size-diag) ])\n",
        "\n",
        "    npsquare = f(  np.abs(np.arange(0,64)*np.ones([size,size]) - center[0]) + \\\n",
        "                   np.abs(np.transpose(np.arange(0,64)*np.ones([size,size]))-center[1]), diag)\n",
        "#    npsquare = np.abs(np.arange(0,64)*np.ones([size,size]) - center[0])\n",
        "    npsquare = np.random.uniform(0.6,1.) * npsquare  #variation on intensity\n",
        "    image[fields,:,:] = image[fields,:,:] + torch.from_numpy(npsquare).float()   #matrice des distances < rayon\n",
        "    return image\n",
        "\n",
        "\n",
        "def plot_pairs(image, f = lambda x : x**2):\n",
        "    horizontal = (torch.randint(0,2,(1,)) > 0.5).item()\n",
        "#    print(horizontal)\n",
        "    dist = torch.randint(1,32, (1,)).item()\n",
        "    if horizontal :\n",
        "        ordo = torch.randint(0, 64, (1,)).item()\n",
        "        absi = torch.randint(0, 64 - dist, (1,)).item()\n",
        "        image[1, ordo, absi:(absi + dist + 1)] \\\n",
        "            += 0.1 + torch.mean(f(image[0, ordo, absi:(absi + dist + 1)]))\n",
        "    else :\n",
        "        ordo = torch.randint(0, 64 - dist, (1,)).item()\n",
        "        absi = torch.randint(0, 64, (1,)).item()\n",
        "        image[1, ordo:ordo+dist+1, absi] \\\n",
        "            += 0.1 + torch.mean(f(image[0, ordo:ordo+dist+1, absi]))\n",
        "    return image\n",
        "\n",
        "\n",
        "def generate_noise(image, lambda_rec=0.001 ,lambda_noisy_rec = 0.001, lambda_disc = 0.001, lambda_square = 0., pola=[0,0.5,0.1]):\n",
        "    for k in range(np.random.poisson(lambda_disc*64*64)):\n",
        "        r = randint(5,10)\n",
        "        image=simu_disc(image, lambda a,x  : (0.39 - 0.36*a/x**2)*(a < x**2) ,radius = r)  #0.47 pour avoir 40 dB\n",
        "    for k in range(np.random.poisson(lambda_square*64*64)):\n",
        "        r = randint(5,10)\n",
        "        image=simu_square(image, lambda a,x  : (0.5 - 0.45*a/x)*(a < x) , diag = r)  #0.47 pour avoir 40 dB\n",
        "#        print(r)\n",
        "\n",
        "    for i in range(np.random.poisson(lambda_rec*64*64)):\n",
        "        L=randint(20,50)\n",
        "        l=randint(2,10)\n",
        "        image= simu_rec(image,L,l)\n",
        "    for j in range(np.random.poisson(lambda_noisy_rec*64*64)):\n",
        "        L=randint(10,30)\n",
        "        l=randint(10,30)\n",
        "        image= simu_noisy_rec(image,L,l)\n",
        "        # 0.3*np.exp(-0.1 * a/x)*(a < x**2)  #image=simu_disque(image, lambda a,x  : 1.0*(a < x**2)  )\n",
        "    if pola[0]==1:      #add a pseudo pola field\n",
        "        image_pola = generate_pola(image,pola)\n",
        "        image=torch.cat([image,image_pola],dim=0)\n",
        "    return image\n",
        "\n",
        "\n",
        "def generate_noise_with_cond(image, lambda_rec=0.001 ,lambda_noisy_rec = 0.001, lambda_disc = 0.001, lambda_square = 0., pola=[0,0.5,0.1]):\n",
        "    for k in range(np.random.poisson(lambda_disc*64*64)):\n",
        "        r = randint(6,18)\n",
        "        image=simu_disc_with_cond(image, lambda a,x  : (0.39 - 0.36*a/x**2)*(a < x**2) ,radius = r)  #0.47 pour avoir 40 dB\n",
        "    for k in range(np.random.poisson(lambda_square*64*64)):\n",
        "        r = randint(5,10)\n",
        "        image=simu_square(image, lambda a,x  : (0.5 - 0.45*a/x)*(a < x) , diag = r)  #0.47 pour avoir 40 dB\n",
        "#        print(r)\n",
        "\n",
        "    for i in range(np.random.poisson(lambda_rec*64*64)):\n",
        "        L=randint(20,50)\n",
        "        l=randint(2,10)\n",
        "        image= simu_rec(image,L,l)\n",
        "    for j in range(np.random.poisson(lambda_noisy_rec*64*64)):\n",
        "        L=randint(10,30)\n",
        "        l=randint(10,30)\n",
        "        image= simu_noisy_rec(image,L,l)\n",
        "        # 0.3*np.exp(-0.1 * a/x)*(a < x**2)  #image=simu_disque(image, lambda a,x  : 1.0*(a < x**2)  )\n",
        "    return image\n",
        "\n",
        "\n",
        "def generate_noise_and_pairs(image, lambda_pairs = 0.01, lambda_rec=0.001 ,lambda_noisy_rec = 0.001, lambda_disc = 0.001, lambda_square = 0., pola=[0,0.5,0.1]):\n",
        "    for k in range(np.random.poisson(lambda_disc*64*64)):\n",
        "        r = randint(5,10)\n",
        "        image=simu_disc(image, lambda a,x  : (0.39 - 0.36*a/x**2)*(a < x**2) ,radius = r)  #0.47 pour avoir 40 dB\n",
        "    for k in range(np.random.poisson(lambda_square*64*64)):\n",
        "        r = randint(5,10)\n",
        "        image=simu_square(image, lambda a,x  : (0.5 - 0.45*a/x)*(a < x) , diag = r)  #0.47 pour avoir 40 dB\n",
        "#        print(r)\n",
        "\n",
        "    for i in range(np.random.poisson(lambda_rec*64*64)):\n",
        "        L=randint(20,50)\n",
        "        l=randint(2,10)\n",
        "        image= simu_rec(image,L,l)\n",
        "    for j in range(np.random.poisson(lambda_noisy_rec*64*64)):\n",
        "        L=randint(10,30)\n",
        "        l=randint(10,30)\n",
        "        image = simu_noisy_rec(image,L,l)\n",
        "        # 0.3*np.exp(-0.1 * a/x)*(a < x**2)  #image=simu_disque(image, lambda a,x  : 1.0*(a < x**2)  )\n",
        "    # on ajoute le deuxième canal où les échanges entre signaux seront\n",
        "    # représentés\n",
        "\n",
        "    image2 = torch.zeros([1,64, 64])\n",
        "    image = torch.cat([image,image2], dim = 0 )\n",
        "\n",
        "    for j in range(np.random.poisson(lambda_pairs*64*64)):\n",
        "\n",
        "        image = plot_pairs(image)\n",
        "\n",
        "    return image\n",
        "\n",
        "\n",
        "def make_image(rec, noisy_rec ,disc,square=0., pola=[0]):\n",
        "    image=torch.zeros([1,64, 64])\n",
        "    image = generate_noise(image, lambda_rec=rec, lambda_noisy_rec = noisy_rec,lambda_disc = disc, lambda_square = square, pola= pola)\n",
        "    return image\n",
        "\n",
        "def make_image_with_cond(rec, noisy_rec ,disc,square=0., pola=[0]):\n",
        "    image = torch.zeros([2, 64, 64])\n",
        "    image = generate_noise_with_cond(image, lambda_rec=rec, lambda_noisy_rec = noisy_rec,lambda_disc = disc, lambda_square = square, pola= pola)\n",
        "    return image\n",
        "\n",
        "def make_batch(batch_size, rec, noisy_rec ,disc, square=0., pola=[0] ):\n",
        "    out = make_image(rec, noisy_rec ,disc , square, pola ).unsqueeze(0)\n",
        "    for i in range(batch_size-1):\n",
        "        new=make_image(rec, noisy_rec ,disc, square, pola).unsqueeze(0)\n",
        "        out=torch.cat((out,new), dim=0)\n",
        "    return out\n",
        "\n",
        "def make_batch_with_cond(batch_size, rec, noisy_rec ,disc, square=0.):\n",
        "    out = make_image_with_cond(rec, noisy_rec ,disc , square).unsqueeze(0)\n",
        "    for i in range(batch_size-1):\n",
        "        new=make_image_with_cond(rec, noisy_rec ,disc, square).unsqueeze(0)\n",
        "        out=torch.cat((out,new), dim=0)\n",
        "    return out\n",
        "\n",
        "def make_image_with_pairs(rec, freq_integrated_signals, noisy_rec ,disc,square=0., pola=[0]):\n",
        "    image=torch.zeros([1,64, 64])\n",
        "    image = generate_noise_and_pairs(image, lambda_pairs = freq_integrated_signals, lambda_rec=rec, lambda_noisy_rec = noisy_rec,lambda_disc = disc, lambda_square = square, pola= pola)\n",
        "    return image\n",
        "\n",
        "def make_batch_with_pairs(batch_size, freq_integrated_signals, rec, noisy_rec, disc, square=0., pola=[0] ):\n",
        "    out=make_image_with_pairs(rec, freq_integrated_signals, noisy_rec ,disc , square, pola ).unsqueeze(0)\n",
        "    for i in range(batch_size - 1):\n",
        "        new=make_image_with_pairs(rec, freq_integrated_signals, noisy_rec, disc, square, pola).unsqueeze(0)\n",
        "        out=torch.cat((out,new), dim = 0)\n",
        "    return out\n",
        "\n",
        "def gen(n):  #exercice 1 partie 1\n",
        "  target = make_batch(n, rec = 0., noisy_rec= 0., disc = 0.002)\n",
        "  noise =  make_batch(n, rec = 0.0003, noisy_rec= 0.0003, disc = 0.)\n",
        "  return  target + noise, target     #bruit additif trivial"
      ],
      "metadata": {
        "id": "xoyVAZppo4VS"
      },
      "execution_count": 4,
      "outputs": []
    },
    {
      "cell_type": "code",
      "source": [
        "input, target = gen(6)\n",
        "\n",
        "#versions bruitées (rectangles pleins et bruités)\n",
        "fig0 = plt.figure(0, figsize=(36, 6))\n",
        "voir_batch2D(input, 6, fig0, k=0, min_scale=0,max_scale=1)\n",
        "\n",
        "#versions propres (cellules seules)\n",
        "fig1 = plt.figure(1, figsize=(36, 6))\n",
        "voir_batch2D(target, 6, fig1, k=0, min_scale=0,max_scale=1)"
      ],
      "metadata": {
        "id": "f3EQA_WG599w",
        "outputId": "70e9b743-8ee2-49bb-922f-e7f7563b2e6f",
        "colab": {
          "base_uri": "https://localhost:8080/",
          "height": 446
        }
      },
      "execution_count": 5,
      "outputs": [
        {
          "output_type": "display_data",
          "data": {
            "text/plain": [
              "<Figure size 3600x600 with 2 Axes>"
            ],
            "image/png": "[encoded data removed]"
          },
          "metadata": {}
        },
        {
          "output_type": "display_data",
          "data": {
            "text/plain": [
              "<Figure size 3600x600 with 2 Axes>"
            ],
            "image/png": "[encoded data removed]"
          },
          "metadata": {}
        }
      ]
    },
    {
      "cell_type": "markdown",
      "source": [
        "Maintenant, chargeons les bibliothèques/fonctions utiles. Pour information, **timm** contient les briques de base qui permettent de coder/d'entraîner/de fine tuner la plupart des modèles récents, et en particulier les transformers (ViT, DEiT, BEiT, etc)."
      ],
      "metadata": {
        "id": "YaZzhqfj_0_0"
      }
    },
    {
      "cell_type": "code",
      "source": [
        "! pip install timm\n",
        "! pip install einops"
      ],
      "metadata": {
        "id": "JSgnRD9p8n8n",
        "outputId": "6af50468-2623-48a8-f2c9-1cf34c7ad922",
        "colab": {
          "base_uri": "https://localhost:8080/"
        }
      },
      "execution_count": 6,
      "outputs": [
        {
          "output_type": "stream",
          "name": "stdout",
          "text": [
            "Requirement already satisfied: timm in /usr/local/lib/python3.10/dist-packages (1.0.12)\n",
            "Requirement already satisfied: torch in /usr/local/lib/python3.10/dist-packages (from timm) (2.5.1+cu121)\n",
            "Requirement already satisfied: torchvision in /usr/local/lib/python3.10/dist-packages (from timm) (0.20.1+cu121)\n",
            "Requirement already satisfied: pyyaml in /usr/local/lib/python3.10/dist-packages (from timm) (6.0.2)\n",
            "Requirement already satisfied: huggingface_hub in /usr/local/lib/python3.10/dist-packages (from timm) (0.27.1)\n",
            "Requirement already satisfied: safetensors in /usr/local/lib/python3.10/dist-packages (from timm) (0.5.0)\n",
            "Requirement already satisfied: filelock in /usr/local/lib/python3.10/dist-packages (from huggingface_hub->timm) (3.16.1)\n",
            "Requirement already satisfied: fsspec>=2023.5.0 in /usr/local/lib/python3.10/dist-packages (from huggingface_hub->timm) (2024.10.0)\n",
            "Requirement already satisfied: packaging>=20.9 in /usr/local/lib/python3.10/dist-packages (from huggingface_hub->timm) (24.2)\n",
            "Requirement already satisfied: requests in /usr/local/lib/python3.10/dist-packages (from huggingface_hub->timm) (2.32.3)\n",
            "Requirement already satisfied: tqdm>=4.42.1 in /usr/local/lib/python3.10/dist-packages (from huggingface_hub->timm) (4.67.1)\n",
            "Requirement already satisfied: typing-extensions>=3.7.4.3 in /usr/local/lib/python3.10/dist-packages (from huggingface_hub->timm) (4.12.2)\n",
            "Requirement already satisfied: networkx in /usr/local/lib/python3.10/dist-packages (from torch->timm) (3.4.2)\n",
            "Requirement already satisfied: jinja2 in /usr/local/lib/python3.10/dist-packages (from torch->timm) (3.1.5)\n",
            "Requirement already satisfied: sympy==1.13.1 in /usr/local/lib/python3.10/dist-packages (from torch->timm) (1.13.1)\n",
            "Requirement already satisfied: mpmath<1.4,>=1.1.0 in /usr/local/lib/python3.10/dist-packages (from sympy==1.13.1->torch->timm) (1.3.0)\n",
            "Requirement already satisfied: numpy in /usr/local/lib/python3.10/dist-packages (from torchvision->timm) (1.26.4)\n",
            "Requirement already satisfied: pillow!=8.3.*,>=5.3.0 in /usr/local/lib/python3.10/dist-packages (from torchvision->timm) (11.1.0)\n",
            "Requirement already satisfied: MarkupSafe>=2.0 in /usr/local/lib/python3.10/dist-packages (from jinja2->torch->timm) (3.0.2)\n",
            "Requirement already satisfied: charset-normalizer<4,>=2 in /usr/local/lib/python3.10/dist-packages (from requests->huggingface_hub->timm) (3.4.1)\n",
            "Requirement already satisfied: idna<4,>=2.5 in /usr/local/lib/python3.10/dist-packages (from requests->huggingface_hub->timm) (3.10)\n",
            "Requirement already satisfied: urllib3<3,>=1.21.1 in /usr/local/lib/python3.10/dist-packages (from requests->huggingface_hub->timm) (2.3.0)\n",
            "Requirement already satisfied: certifi>=2017.4.17 in /usr/local/lib/python3.10/dist-packages (from requests->huggingface_hub->timm) (2024.12.14)\n",
            "Requirement already satisfied: einops in /usr/local/lib/python3.10/dist-packages (0.8.0)\n"
          ]
        }
      ]
    },
    {
      "cell_type": "code",
      "source": [
        "import torch\n",
        "import torch.nn as nn\n",
        "from functools import partial\n",
        "from timm.models.layers import trunc_normal_\n",
        "import torch.nn.functional as F\n",
        "\n",
        "# Pour initialiser les poids:\n",
        "def init_weights(m):\n",
        "    if isinstance(m, nn.Linear):\n",
        "        trunc_normal_(m.weight, std=0.02)\n",
        "        if isinstance(m, nn.Linear) and m.bias is not None:\n",
        "            nn.init.constant_(m.bias, 0)\n",
        "    elif isinstance(m, nn.LayerNorm):\n",
        "        nn.init.constant_(m.bias, 0)\n",
        "        nn.init.constant_(m.weight, 1.0)\n",
        "\n",
        "\n",
        "## 2 méthodes d init des weights : methode de xavier,kaming"
      ],
      "metadata": {
        "id": "j2br-1bI8dBv",
        "outputId": "2393760e-a6d5-4509-8940-82cbc1ab1d96",
        "colab": {
          "base_uri": "https://localhost:8080/"
        }
      },
      "execution_count": 7,
      "outputs": [
        {
          "output_type": "stream",
          "name": "stderr",
          "text": [
            "/usr/local/lib/python3.10/dist-packages/timm/models/layers/__init__.py:48: FutureWarning: Importing from timm.models.layers is deprecated, please import via timm.layers\n",
            "  warnings.warn(f\"Importing from {__name__} is deprecated, please import via timm.layers\", FutureWarning)\n"
          ]
        }
      ]
    },
    {
      "cell_type": "markdown",
      "source": [
        "Le \"transformer\" a été conçu pour une tâche de traduction de texte. Il opère donc sur une séquence de mots.\\\n",
        "Le \"vision transformer\" est une adaptation du transformer à des tâches de vision par ordinateur. Cette adaptation est fondée sur un découpage de l'image d'entrée en imagettes (\"patchs\").\n",
        "Chaque patch est alors traité comme un caractère musical dans le TP 4 partie 2: il est projeté dans un espace de représentation propre au modèle.\n",
        "\n",
        "Les hyperparamètres ci-dessous précisent, entre autres, les caractéristiques de l'image d'entrée, la taille des patchs (8 x 8), le nombre de dimensions de l'espace de représentation (\"d_model\").\\\n",
        "Le sens des autres hyperparamètres sera donné au fil de l'énoncé.\n"
      ],
      "metadata": {
        "id": "J-J0Ae7pJIzp"
      }
    },
    {
      "cell_type": "code",
      "source": [
        "image_size = [64,64]\n",
        "channels = 1\n",
        "patch_size = 8\n",
        "d_model = 32\n",
        "mlp_expansion_ratio = 4\n",
        "d_ff = mlp_expansion_ratio * d_model\n",
        "n_heads = 4\n",
        "n_layers = 12"
      ],
      "metadata": {
        "id": "mXSr1BsmQbKv"
      },
      "execution_count": 8,
      "outputs": []
    },
    {
      "cell_type": "markdown",
      "source": [
        "## **A.** Projection dans l'espace de représentation (Embedding)"
      ],
      "metadata": {
        "id": "NHpeiZzqS20H"
      }
    },
    {
      "cell_type": "markdown",
      "source": [
        "**Q1** Préciser la forme (.shape) du tenseur d'entrée (*input*).\\\n",
        "Que représente la première composante (chiffre 6) ?"
      ],
      "metadata": {
        "id": "vrH15kMOMkyW"
      }
    },
    {
      "cell_type": "code",
      "source": [
        "print(input.shape)\n",
        "\n",
        "\n",
        "# C est le nb d'images dans le mini batch"
      ],
      "metadata": {
        "id": "AJDDC3krMkR2",
        "outputId": "a115e071-2bd9-44dc-fa45-662acdbd3a93",
        "colab": {
          "base_uri": "https://localhost:8080/"
        }
      },
      "execution_count": 9,
      "outputs": [
        {
          "output_type": "stream",
          "name": "stdout",
          "text": [
            "torch.Size([6, 1, 64, 64])\n"
          ]
        }
      ]
    },
    {
      "cell_type": "markdown",
      "source": [
        "**Q2** La classe *PatchEmbedding* suivante permet de découper une image en patchs et projeter les patchs dans un epace de dimension donnée par la variable *d_model*.\n",
        "L'instancier avec les hyperparamètres précédents.  \n",
        "L'appliquer au tenseur *input* et stocker le résultat dans la variable *x*."
      ],
      "metadata": {
        "id": "bohcngPjCkTV"
      }
    },
    {
      "cell_type": "code",
      "source": [
        "class PatchEmbedding(nn.Module):\n",
        "    def __init__(self, image_size, patch_size, d_model, channels):\n",
        "        super().__init__()\n",
        "\n",
        "        self.image_size = image_size\n",
        "        if image_size[0] % patch_size != 0 or image_size[1] % patch_size != 0:\n",
        "            raise ValueError(\"image dimensions must be divisible by the patch size\")\n",
        "        self.grid_size = image_size[0] // patch_size, image_size[1] // patch_size\n",
        "        self.num_patches = self.grid_size[0] * self.grid_size[1]\n",
        "        self.patch_size = patch_size\n",
        "\n",
        "        self.proj = nn.Conv2d(\n",
        "            channels, d_model, kernel_size=patch_size, stride=patch_size\n",
        "        )\n",
        "\n",
        "    def forward(self, im):\n",
        "        B, C, H, W = im.shape\n",
        "        x = self.proj(im).flatten(2).transpose(1, 2)\n",
        "        return x"
      ],
      "metadata": {
        "id": "KykBXCq1RHUW"
      },
      "execution_count": 10,
      "outputs": []
    },
    {
      "cell_type": "code",
      "source": [
        "patch_embed = PatchEmbedding(image_size, patch_size, d_model, channels)\n",
        "x = patch_embed( input )"
      ],
      "metadata": {
        "id": "D-5h9mvqP9kH"
      },
      "execution_count": 11,
      "outputs": []
    },
    {
      "cell_type": "markdown",
      "source": [
        "**Q3** Préciser la forme du tenseur *x*. Pourquoi la seconde composante vaut-elle 64 ?\n"
      ],
      "metadata": {
        "id": "QYDiCzOzPpBD"
      }
    },
    {
      "cell_type": "code",
      "source": [
        "print(x.shape)\n",
        "\n",
        "# Une image correspond à une matrice de taille 64 x 64.\n",
        "# Chaque matrice est découpée en blocs (\"patchs\") de 8 x 8\n",
        "# Il y a donc 64 patchs par image."
      ],
      "metadata": {
        "id": "dJFa0sb9P6WW",
        "outputId": "9d931942-925e-4e20-f008-1a62e5a0f5a2",
        "colab": {
          "base_uri": "https://localhost:8080/"
        }
      },
      "execution_count": 12,
      "outputs": [
        {
          "output_type": "stream",
          "name": "stdout",
          "text": [
            "torch.Size([6, 64, 32])\n"
          ]
        }
      ]
    },
    {
      "cell_type": "markdown",
      "source": [
        "**Q4** : l'objet *embed* contient-il des paramètres entraînables ? Quel type de couche de neurones est employé ici ? Préciser le rôle du paramètre *stride* dans le \"découpage\" de l'imagette."
      ],
      "metadata": {
        "id": "TYfKnox41aAB"
      }
    },
    {
      "cell_type": "markdown",
      "source": [
        "Couche de convolution donc associée à des poids entraînables. Stride a pour rôle"
      ],
      "metadata": {
        "id": "mR5U07v7qG-N"
      }
    },
    {
      "cell_type": "markdown",
      "source": [
        "Dans cette opération de découpage, l'information sur la position relative des patchs dans l'image est partiellement perdue. Pour compenser cette perte, on associe à chacune des positions possibles un vecteur de l'espace des représentations (tokénisation). On ajoute ces vecteurs aux projections.\\\n",
        "Ceci se traduit par l'opération suivante:"
      ],
      "metadata": {
        "id": "JPbeFOJnRXBp"
      }
    },
    {
      "cell_type": "code",
      "source": [
        "pos_embed = nn.Parameter(torch.randn(1, patch_embed.num_patches, d_model))\n",
        "\n",
        "x = x + pos_embed"
      ],
      "metadata": {
        "id": "g_SupfKbS6vW"
      },
      "execution_count": 13,
      "outputs": []
    },
    {
      "cell_type": "markdown",
      "source": [
        "**Q5** A ce stade, combien le réseau compte-t-il de paramètres entraînables ?"
      ],
      "metadata": {
        "id": "Pjl9K-PBVCex"
      }
    },
    {
      "cell_type": "code",
      "source": [
        "# (64 + 1)*32 + num_patches*d_model = 2080 + ..."
      ],
      "metadata": {
        "id": "llDXDcDtucD1"
      },
      "execution_count": null,
      "outputs": []
    },
    {
      "cell_type": "markdown",
      "source": [
        "Le tenseur *x* est ensuite passé à travers une série de blocs identiques (*n_layers* représente le nombre de blocs).\\\n",
        "Chaque bloc est constitué, dans l'ordre :\n",
        "- d'une opération de normalisation particulière (nous n'en discuterons pas ici)\n",
        "- d'une couche \"attentionnelle\"\n",
        "- d'une couche nommée \"FeedForward\".\n",
        "\n",
        "Voyons d'abord **la couche attentionnelle**."
      ],
      "metadata": {
        "id": "r2AxyI6fTs9y"
      }
    },
    {
      "cell_type": "markdown",
      "source": [
        "## **B.** La couche attentionnelle"
      ],
      "metadata": {
        "id": "g5JbYXllTEE_"
      }
    },
    {
      "cell_type": "markdown",
      "source": [
        "L'idée de base est simple : pour \"comprendre\" le contenu d'un patch, il n'est pas nécessaire de consulter tous les autres patches, mais seulement certains d'entre eux. En d'autre termes, il faut prêter \"attention\"  aux patchs pertinents.\\\n",
        "La couche attentionnelle encode un mécanisme de sélection des patchs les plus pertinents. Notez qu'elle opère non directement sur les patchs, mais sur les **vecteurs** auxquels ils ont été associés via l'étape d'embedding (les vecteurs contenus dans *x*).  \n",
        "\n",
        "Précisément, une couche attentionnelle \"simple\" contient les opérations suivantes:\n",
        "- une première application linéaire projette un **vecteur** d'entrée vers trois vecteurs : le premier est appelé \"requête\" (query), le second \"clef\" (key) et le troisième \"valeur\" (value).\n",
        "- pour chaque patch $i$, on évalue la \"pertinence\" du patch $j$ par le produit scalaire entre la requête $q_i$ associée au patch $i$ et la clef $k_j$ associée au patch $j$. Une opération de normalisation propre à la couche attentionnelle est appliquée à l'ensemble de ces produits scalaires.\n",
        "- on associe alors au patch $i$ la somme des valeurs $v_j$ pondérées par ces produits scalaires normalisés.\n",
        "- une seconde application linéaire transforme cette somme pondérée en le vecteur de sortie, de même dimension que le vecteur d'entrée.\n",
        "\n",
        "Dernière subtilité: dans un VIT, ce sont des couches attentionnelles composées (multi-head attention) qui sont utilisées. Chaque \"tête\" correspond à une couche attentionnelle simple.\n",
        "La classe ci-dessous code pour une couche attentionnelle composée :"
      ],
      "metadata": {
        "id": "qaerPAUieXG8"
      }
    },
    {
      "cell_type": "code",
      "source": [
        "class Attention(nn.Module):\n",
        "    def __init__(self, d_model, n_heads):\n",
        "        super().__init__()\n",
        "\n",
        "        # Nombre de \"têtes\"\n",
        "        self.heads = n_heads\n",
        "\n",
        "        # Taille des vecteurs requête, clefs, valeur\n",
        "        self.head_dim = d_model // n_heads\n",
        "\n",
        "        # Scalaire utilisé à l'étape de normalisation\n",
        "        self.scale = self.head_dim ** -0.5\n",
        "\n",
        "        # Première application linéaire\n",
        "        self.qkv = nn.Linear(d_model, n_heads * self.head_dim * 3)\n",
        "\n",
        "        # Seconde application linéaire\n",
        "        self.proj = nn.Linear(n_heads * self.head_dim, d_model)\n",
        "\n",
        "\n",
        "    def forward(self, x, mask=None):\n",
        "        B, N, C = x.shape\n",
        "\n",
        "        # Calcul des requêtes, clefs, valeurs\n",
        "        qkv = (\n",
        "            self.qkv(x)\n",
        "            .reshape(B, N, 3, self.heads, self.head_dim)\n",
        "            .permute(2, 0, 3, 1, 4)\n",
        "        )\n",
        "        q, k, v = (\n",
        "            qkv[0],\n",
        "            qkv[1],\n",
        "            qkv[2],\n",
        "        )\n",
        "        # Produits scalaires\n",
        "        p = (q @ k.transpose(-2, -1))\n",
        "\n",
        "        # A décommenter pour la question 10:\n",
        "        # print(q.shape, k.transpose(-2, -1).shape)\n",
        "\n",
        "        # Etape de normalisation\n",
        "        p *= self.scale\n",
        "        p = p.softmax(dim=-1)\n",
        "\n",
        "        # Somme pondérée\n",
        "        x = (p @ v).transpose(1, 2).reshape(B, N, C)\n",
        "\n",
        "        # Sortie\n",
        "        x = self.proj(x)\n",
        "\n",
        "        return x"
      ],
      "metadata": {
        "id": "zNSDGj95YOAY"
      },
      "execution_count": 14,
      "outputs": []
    },
    {
      "cell_type": "markdown",
      "source": [
        "**Q6** Instancier la classe *Attention* et l'appliquer au tenseur *x*. Cette couche conserve-t-elle les dimensions du tenseur d'entrée ?"
      ],
      "metadata": {
        "id": "qG-Yt9i5ZUI-"
      }
    },
    {
      "cell_type": "code",
      "source": [
        "attn = Attention(d_model, n_heads)\n",
        "print(x.shape)\n",
        "x =  attn(x)\n",
        "print(x.shape)\n",
        "\n",
        "#OUI"
      ],
      "metadata": {
        "id": "jzOaU3eQZ5Ga",
        "outputId": "cbc350cb-8b95-4744-a8af-78bad643880b",
        "colab": {
          "base_uri": "https://localhost:8080/"
        }
      },
      "execution_count": 16,
      "outputs": [
        {
          "output_type": "stream",
          "name": "stdout",
          "text": [
            "torch.Size([6, 64, 32])\n",
            "torch.Size([6, 64, 32])\n"
          ]
        }
      ]
    },
    {
      "cell_type": "markdown",
      "source": [
        "**Q7** Que représente le symbole @ pour des tenseurs **d'ordre supérieur à deux** selon la [PEP 465](https://peps.python.org/pep-0465/#:~:text=This%20PEP%20proposes%20the%20minimum,%2C%20and%20%40%20for%20matrix%20multiplication.) ?"
      ],
      "metadata": {
        "id": "EUPv6WsRbluS"
      }
    },
    {
      "cell_type": "code",
      "source": [],
      "metadata": {
        "id": "YZNs-AinxbNb"
      },
      "execution_count": null,
      "outputs": []
    },
    {
      "cell_type": "markdown",
      "source": [
        "**Q8** Une couche attentionnelle composée est-elle linéaire ?\n",
        "Préciser de quelles opérations proviennent la non-linéarité."
      ],
      "metadata": {
        "id": "itygKSV-qu2K"
      }
    },
    {
      "cell_type": "markdown",
      "source": [
        "Non car softmax non linéaire"
      ],
      "metadata": {
        "id": "7L3OGz5zzzuk"
      }
    },
    {
      "cell_type": "markdown",
      "source": [
        "**Q9** Le nombre de poids dépend-il du nombre de têtes ? Justifier."
      ],
      "metadata": {
        "id": "NUTqveNnjKpE"
      }
    },
    {
      "cell_type": "markdown",
      "source": [],
      "metadata": {
        "id": "5YZDzNXN07zU"
      }
    },
    {
      "cell_type": "markdown",
      "source": [
        "**Q10** Un nombre de tête plus élevé a-t-il un effet sur la complexité du calcul ? Répondre en considérant les calculs matriciels effectués pour différentes valeurs de *n_heads* (eg. décommenter le *print* dans la classe *Attention*)."
      ],
      "metadata": {
        "id": "iDXBCq82kk50"
      }
    },
    {
      "cell_type": "markdown",
      "source": [
        "## **C.** Définition d'un bloc"
      ],
      "metadata": {
        "id": "0taON13VhUUF"
      }
    },
    {
      "cell_type": "markdown",
      "source": [
        "**Q11** Dans un bloc, la couche attentionnelle est suivie d'un réseau de la classe FeedForward (voir ci-dessous).\n",
        "Comment appelle-t-on ce type de couche ?\n",
        "Quelle est-ici la fonction d'activation ? La décrire en quelques mots."
      ],
      "metadata": {
        "id": "JBi9xowSn0cp"
      }
    },
    {
      "cell_type": "code",
      "source": [
        "class FeedForward(nn.Module):\n",
        "    def __init__(self, d_model, d_ff, out_dim=None):\n",
        "        super().__init__()\n",
        "        self.fc1 = nn.Linear(d_model, d_ff)\n",
        "        self.act = nn.GELU()\n",
        "        if out_dim is None:\n",
        "            out_dim = d_model\n",
        "        self.fc2 = nn.Linear(d_ff, out_dim)\n",
        "\n",
        "    def unwrapped(self):\n",
        "        return self\n",
        "\n",
        "    def forward(self, x):\n",
        "        x = self.fc1(x)\n",
        "        x = self.act(x)\n",
        "        x = self.fc2(x)\n",
        "        return x"
      ],
      "metadata": {
        "id": "upJwcFtXXGIS"
      },
      "execution_count": null,
      "outputs": []
    },
    {
      "cell_type": "markdown",
      "source": [
        "**Q12** Appliquer un objet de cette classe à *x*. A quoi correspond le paramètre *d_ff* ?"
      ],
      "metadata": {
        "id": "R-1R5usLcnBC"
      }
    },
    {
      "cell_type": "code",
      "source": [
        "ff = ...\n",
        "\n",
        "x = ..."
      ],
      "metadata": {
        "id": "0zqJcicNsscb"
      },
      "execution_count": null,
      "outputs": []
    },
    {
      "cell_type": "markdown",
      "source": [
        "Un bloc complet peut maintenant être défini. Il contient les deux couches précédentes et des opérations de normalisation paramétrables :"
      ],
      "metadata": {
        "id": "EjC9W1yRvEeY"
      }
    },
    {
      "cell_type": "code",
      "source": [
        "class Block(nn.Module):\n",
        "    def __init__(self, d_model, n_heads, d_ff):\n",
        "        super().__init__()\n",
        "        self.norm1 = nn.LayerNorm(d_model)\n",
        "        self.norm2 = nn.LayerNorm(d_model)\n",
        "        self.attn = Attention(d_model, n_heads)\n",
        "        self.mlp = FeedForward(d_model, d_ff)\n",
        "\n",
        "\n",
        "    def forward(self, x, mask=None, return_attention=False):\n",
        "        #a modifier (voir question 14)\n",
        "        y = self.attn(self.norm1(x), mask)\n",
        "        y = self.mlp(self.norm2(y))\n",
        "\n",
        "        return y"
      ],
      "metadata": {
        "id": "PiQ47au8tyx8"
      },
      "execution_count": null,
      "outputs": []
    },
    {
      "cell_type": "markdown",
      "source": [
        "**Q13** Vérifier qu'une application successive de plusieurs blocs ne changera pas les dimensions du tenseur d'entrée."
      ],
      "metadata": {
        "id": "_jnOKSeVeNYA"
      }
    },
    {
      "cell_type": "code",
      "source": [
        "..."
      ],
      "metadata": {
        "id": "1Da1ZbPsedNs"
      },
      "execution_count": null,
      "outputs": []
    },
    {
      "cell_type": "markdown",
      "source": [
        "**Q14** Dans la figure *1* de l'[article qui définit les Visual Transformers](https://arxiv.org/pdf/2010.11929.pdf), le bloc correspond au rectangle gris à droite de la ligne pointillée verticale.\n",
        "Compléter la méthode forward pour que la correspondance soit parfaite."
      ],
      "metadata": {
        "id": "aTrefcZltYvp"
      }
    },
    {
      "cell_type": "markdown",
      "source": [
        "## **D.** Définition d'un Denoising-VIT :"
      ],
      "metadata": {
        "id": "oGprWGWhhi6M"
      }
    },
    {
      "cell_type": "markdown",
      "source": [
        "Nous en savons assez pour définir une classe simple de transformers:"
      ],
      "metadata": {
        "id": "1HJ2DfH_yKIw"
      }
    },
    {
      "cell_type": "code",
      "source": [
        "class VisionTransformer(nn.Module):\n",
        "    def __init__(\n",
        "        self,\n",
        "        image_size,\n",
        "        patch_size,\n",
        "        n_layers,\n",
        "        d_model,\n",
        "        d_ff,\n",
        "        n_heads,\n",
        "        channels=1,\n",
        "    ):\n",
        "        super().__init__()\n",
        "        self.patch_embed = PatchEmbedding(\n",
        "            image_size,\n",
        "            patch_size,\n",
        "            d_model,\n",
        "            channels,\n",
        "        )\n",
        "        self.patch_size = patch_size\n",
        "        self.n_layers = n_layers\n",
        "        self.d_model = d_model\n",
        "        self.d_ff = d_ff\n",
        "        self.n_heads = n_heads\n",
        "        self.pos_embed = nn.Parameter(\n",
        "                torch.randn(1, self.patch_embed.num_patches, d_model) # pas +1\n",
        "            )\n",
        "        trunc_normal_(self.pos_embed, std=0.02)\n",
        "\n",
        "        self.blocks = nn.ModuleList(\n",
        "            [Block(d_model, n_heads, d_ff) for i in range(n_layers)]\n",
        "        )\n",
        "        self.norm = nn.LayerNorm(d_model)\n",
        "\n",
        "        self.apply(init_weights)\n",
        "\n",
        "\n",
        "\n",
        "    def forward(self, im):\n",
        "        # Embedding (à compléter):\n",
        "        x = ...\n",
        "\n",
        "        # Cascade de blocs (à compléter):\n",
        "        for blk in self.blocks:\n",
        "            ...\n",
        "\n",
        "        # normalisation finale de l'encodeur:\n",
        "        x = self.norm(x)\n",
        "\n",
        "        return x\n"
      ],
      "metadata": {
        "id": "hv41tI-Jy335"
      },
      "execution_count": null,
      "outputs": []
    },
    {
      "cell_type": "markdown",
      "source": [
        "**Q15** Compléter la méthode forward de cette classe puis l'instancier avec les paramètres définis plus haut. S'assurer que le modèle instancié peut prendre entrée le batch généré au début du problème. Vérifier la forme du tenseur de sortie."
      ],
      "metadata": {
        "id": "gDjYXtpJzK0Z"
      }
    },
    {
      "cell_type": "code",
      "source": [
        "...\n",
        "\n",
        "print(encoder(input).shape)"
      ],
      "metadata": {
        "id": "9jRM5EaPgGn5"
      },
      "execution_count": null,
      "outputs": []
    },
    {
      "cell_type": "markdown",
      "source": [
        "Pour obtenir une prédiction à l'échelle du pixel, nous allons nous donner une classe de décodeurs (*Decoder*). La classe *Denoiser* qui la suit combine  l'encodeur et le décodeur :"
      ],
      "metadata": {
        "id": "pYwzACvZ3qH5"
      }
    },
    {
      "cell_type": "code",
      "source": [
        "from einops import rearrange\n",
        "\n",
        "class double_conv(nn.Module):\n",
        "    '''(conv => BN => ReLU) * 2'''\n",
        "    def __init__(self, in_ch, out_ch):\n",
        "        super(double_conv, self).__init__()\n",
        "        self.conv = nn.Sequential(\n",
        "            nn.Conv2d(in_ch, out_ch, 3, padding=1),\n",
        "            nn.BatchNorm2d(out_ch),\n",
        "            nn.ReLU(inplace=True),\n",
        "            nn.Conv2d(out_ch, out_ch, 3, padding=1),\n",
        "            nn.BatchNorm2d(out_ch),\n",
        "            nn.ReLU(inplace=True)\n",
        "        )\n",
        "\n",
        "    def forward(self, x):\n",
        "        x = self.conv(x)\n",
        "        return x\n",
        "\n",
        "class Up0(nn.Module):\n",
        "    def __init__(self, in_ch, out_ch, bilinear=False):\n",
        "        super(Up, self).__init__()\n",
        "        self.up = nn.ConvTranspose2d(in_ch, in_ch, kernel_size=2, stride=2)\n",
        "        self.conv = double_conv(in_ch, out_ch)\n",
        "\n",
        "    def forward(self, x1):\n",
        "        x1 = self.up(x1)\n",
        "        x = self.conv(x1)\n",
        "        return x\n",
        "\n",
        "class outconv(nn.Module):\n",
        "    def __init__(self, in_ch, out_ch):\n",
        "        super(outconv, self).__init__()\n",
        "        self.conv = nn.Conv2d(in_ch, out_ch, 1)\n",
        "\n",
        "    def forward(self, x):\n",
        "        x = self.conv(x)\n",
        "        return x\n",
        "\n",
        "\n",
        "class Decoder(nn.Module):\n",
        "    \"\"\"\n",
        "    vaut uniquement si channels = 1 et image_size =64\n",
        "    \"\"\"\n",
        "    def __init__(self, patch_size, d_model):\n",
        "        super().__init__()\n",
        "\n",
        "        self.d_model = d_model\n",
        "        self.ps = patch_size\n",
        "\n",
        "        self.head = nn.Linear(self.d_model, self.ps**2)\n",
        "        self.apply(init_weights)\n",
        "        self.up1 =  Up0(32, 16)\n",
        "        self.up2 =  Up0(16, 8)\n",
        "        self.up3 =  Up0(8, 4)\n",
        "        self.outc = outconv(4, 1)\n",
        "\n",
        "    def forward(self, x):\n",
        "\n",
        "        x = rearrange(x, \"b (h w) c -> b c h w\", h=8)\n",
        "        x = self.up1(x)\n",
        "        x = self.up2(x)\n",
        "        x = self.up3(x)\n",
        "        x = self.outc(x)\n",
        "        return x\n"
      ],
      "metadata": {
        "id": "14lk1vO6xmKO"
      },
      "execution_count": null,
      "outputs": []
    },
    {
      "cell_type": "code",
      "source": [
        "class Denoiser(nn.Module):\n",
        "    def __init__(\n",
        "        self,\n",
        "        encoder,\n",
        "        decoder,\n",
        "    ):\n",
        "        super().__init__()\n",
        "        self.encoder = encoder\n",
        "        self.decoder = decoder\n",
        "\n",
        "\n",
        "    def forward(self, im):\n",
        "\n",
        "        x = self.encoder(im)\n",
        "        x = self.decoder(x)\n",
        "\n",
        "        return x\n"
      ],
      "metadata": {
        "id": "qnH0S7d9xCbR"
      },
      "execution_count": null,
      "outputs": []
    },
    {
      "cell_type": "markdown",
      "source": [
        "**Q16** Quels sont les rôles de *nn.ConvTranspose2d* et de la fonction *rearrange* dans le code ? En quoi ce décodeur diffère-t-il de celui qu'on trouve dans un UNet ?"
      ],
      "metadata": {
        "id": "R70ff-Y4uPuH"
      }
    },
    {
      "cell_type": "markdown",
      "source": [
        "**Q17** Compléter la classe Decoder pour que la sortie du réseau ait la même taille que l'entrée."
      ],
      "metadata": {
        "id": "J_eiE_WWt4MI"
      }
    },
    {
      "cell_type": "markdown",
      "source": [
        "**Q18** Instancier un Denoiser. Vérifier les dimensions en sortie de ce modèle."
      ],
      "metadata": {
        "id": "03uqKrDBB5Fn"
      }
    },
    {
      "cell_type": "code",
      "source": [],
      "metadata": {
        "id": "0RagESf5B-UP"
      },
      "execution_count": null,
      "outputs": []
    },
    {
      "cell_type": "markdown",
      "source": [
        "**Q19** Combien un Denoiser compte-t-il de poids entraînables ?"
      ],
      "metadata": {
        "id": "9YKo9TADEFGv"
      }
    },
    {
      "cell_type": "markdown",
      "source": [
        "## **E.** Entraînement d'un Denoising-VIT"
      ],
      "metadata": {
        "id": "Lpgw3KpFiq0s"
      }
    },
    {
      "cell_type": "markdown",
      "source": [
        "**Q20** Entraîner le model sur carte GPU (30 époques, MSE, optimizer d'ADAM avec des paramètres standard). Visualiser la sortie et commenter."
      ],
      "metadata": {
        "id": "jko0hzyyhw6J"
      }
    },
    {
      "cell_type": "code",
      "source": [],
      "metadata": {
        "id": "NUrMznA6imC2"
      },
      "execution_count": null,
      "outputs": []
    },
    {
      "cell_type": "code",
      "source": [],
      "metadata": {
        "id": "zLGnPwaADUNr"
      },
      "execution_count": null,
      "outputs": []
    },
    {
      "cell_type": "code",
      "source": [],
      "metadata": {
        "id": "a9BqbnFx5nPZ"
      },
      "execution_count": null,
      "outputs": []
    },
    {
      "cell_type": "code",
      "source": [
        "#visualization:\n",
        "\n",
        "model.eval()\n",
        "\n",
        "inputs, targets = gen(6)\n",
        "inputs = inputs.to(device)\n",
        "targets = targets.to(device)\n",
        "\n",
        "outputs = model(inputs)\n",
        "print(outputs.shape)\n",
        "fig = plt.figure(0, figsize=(36, 6))  # first row: inputs\n",
        "voir_batch2D(inputs.cpu(), 6, fig, k=0, min_scale=0, max_scale=1)\n",
        "fig2 = plt.figure(1, figsize=(36, 6))  # second row: ground truth\n",
        "voir_batch2D(targets.detach().cpu(), 6, fig2, k=0, min_scale=0, max_scale=1)\n",
        "fig3 = plt.figure(2, figsize=(36, 6))  # last row: outputs\n",
        "voir_batch2D(outputs.detach().cpu(), 6, fig2, k=0, min_scale=0, max_scale=1)"
      ],
      "metadata": {
        "id": "DUUscMZz5rG4"
      },
      "execution_count": null,
      "outputs": []
    }
  ],
  "metadata": {
    "colab": {
      "provenance": [],
      "gpuType": "T4"
    },
    "kernelspec": {
      "display_name": "Python 3",
      "name": "python3"
    },
    "accelerator": "GPU"
  },
  "nbformat": 4,
  "nbformat_minor": 0
}