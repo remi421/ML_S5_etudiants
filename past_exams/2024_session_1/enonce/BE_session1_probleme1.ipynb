{
  "cells": [
    {
      "cell_type": "markdown",
      "source": [
        "#Problème 1:\n",
        "\n",
        "\n",
        "\n"
      ],
      "metadata": {
        "id": "-1ciEeyNevrd"
      }
    },
    {
      "cell_type": "markdown",
      "source": [
        "Dans ce problème, il s'agit de reconstruire un champ spatialisé cible à partir d'un prédicteur spatialisé et d'observations ponctuelles.  \n",
        "Dans la première partie, on adapte simplement la procédure de régression pixel à pixel standard au cas où les données cibles ne sont renseignées qu'en quelques pixels (observations \"ponctuelles\").\\\n",
        "Dans la seconde partie, on entraîne un réseau à prendre les deux types de données, champ spatialisé et observations ponctuelles, en entrée pour reconstruire au mieux la cible complète.\n",
        "\n",
        "**NB**: Il vaut mieux traiter les deux parties dans l'ordre."
      ],
      "metadata": {
        "id": "mYKKIfhnju8N"
      }
    },
    {
      "cell_type": "code",
      "source": [
        "import os\n",
        "import random\n",
        "import torch\n",
        "import torch.nn as nn\n",
        "import torch.optim as optim\n",
        "import torch.utils.data\n",
        "import numpy as np\n",
        "import matplotlib.pyplot as plt"
      ],
      "metadata": {
        "id": "kljjYo2oii5T"
      },
      "execution_count": 1,
      "outputs": []
    },
    {
      "cell_type": "code",
      "source": [
        "\n",
        "\n",
        "import torch\n",
        "import numpy as np\n",
        "from random import randint\n",
        "import matplotlib.pyplot as plt\n",
        "import os\n",
        "#############################################################\n",
        "#pour la visualisation des images ###########################\n",
        "#############################################################\n",
        "\n",
        "def voir_mat(data2, fig, min_scale=-10,max_scale=70):\n",
        "\n",
        "    ax = fig.add_subplot(1,1,1)\n",
        "    ax.set_aspect('equal')\n",
        "    plt.imshow(data2, interpolation='nearest', cmap=plt.cm.rainbow) #cmap=plt.cm.ocean)\n",
        "    plt.clim(min_scale,max_scale)\n",
        "    plt.colorbar()\n",
        "    plt.show()\n",
        "\n",
        "def voir_tens(image, fig, min_scale=-1,max_scale=1):\n",
        "    im=image[0,0,:,:].numpy()\n",
        "    ax = fig.add_subplot(1,1,1)\n",
        "    ax.set_aspect('equal')\n",
        "    plt.imshow(im, interpolation='nearest',  cmap=plt.cm.rainbow) #cmap=plt.cm.ocean)\n",
        "    plt.clim(min_scale,max_scale)\n",
        "    plt.colorbar()\n",
        "    plt.show()\n",
        "\n",
        "def conc(image1,image2,dim=3):\n",
        "    return torch.cat((image1,image2), dim) #, out=None)\n",
        "\n",
        "def multi_conc(L,dim=1,ecart=5, min_scale=0.5):\n",
        "    image1=L[0]\n",
        "    for i in range(1, len(L)):\n",
        "        if dim==1:\n",
        "            sep=  min_scale + 0*image1[:,0:ecart]\n",
        "        elif dim==0:\n",
        "            sep=  min_scale + 0*image1[0:ecart,:]\n",
        "        image1=conc(image1,sep,dim)\n",
        "        image2=L[i]\n",
        "        image1=conc(image1,image2,dim=dim)\n",
        "    return image1\n",
        "\n",
        "def images_from_tenseur(tens, k=0):\n",
        "    len_batch=tens.shape[0]\n",
        "    L=[]\n",
        "    for i in range(len_batch):\n",
        "        L.append(tens[i,k,:,:])\n",
        "    return L\n",
        "\n",
        "def voir_batch2D(tens, nx, fig,k=0, min_scale=-10,max_scale=1):\n",
        "    s = 0.5*(min_scale + max_scale)\n",
        "    L=images_from_tenseur(tens,k)\n",
        "    image1=multi_conc(L[0:nx],dim=1, min_scale=s)\n",
        "    for i in range(1,int(len(L)/nx)):\n",
        "        image2=multi_conc(L[i*nx:(i+1)*nx],dim=1, min_scale=s)\n",
        "        image1=multi_conc([image1,image2],dim=0, min_scale=s)\n",
        "    voir_mat(image1, fig, min_scale,max_scale)\n",
        "\n",
        "\n",
        "#############################################################\n",
        "#pour la génération des images    ###########################\n",
        "#############################################################\n",
        "\n",
        "def simu_rec(image, L,l,  fields=0):\n",
        "    channels,size,size2=image.size()\n",
        "    rec= torch.zeros(channels,size,size2)\n",
        "    #out = 0*(image.clone())\n",
        "    vertical=np.random.binomial(1,0.5)==1\n",
        "    if vertical:\n",
        "        width=l\n",
        "        height=L\n",
        "    else:\n",
        "        width=L\n",
        "        height=l\n",
        "\n",
        "    top=randint(0, size-height)\n",
        "    left=randint(0, size-width)\n",
        "    rec[fields,top:top+height,left:left+width]=  np.random.uniform(0,0.4)   #0.1\n",
        "    image=image + rec\n",
        "    return image\n",
        "\n",
        "def simu_noisy_rec(image, L,l,  fields=0):\n",
        "    channels,size,size2=image.size()\n",
        "    rec= torch.zeros(channels,size,size2)\n",
        "    #out = 0*(image.clone())\n",
        "    vertical=np.random.binomial(1,0.5)==1\n",
        "    if vertical:\n",
        "        width=l\n",
        "        height=L\n",
        "    else:\n",
        "        width=L\n",
        "        height=l\n",
        "\n",
        "    top=randint(0, size-height)\n",
        "    left=randint(0, size-width)\n",
        "    rec[fields,top:top+height,left:left+width]= np.random.uniform(0,0.4)  #0.1\n",
        "    noise=torch.randn(channels,size,size2)\n",
        "    noise=noise*(noise>0).float()\n",
        "    rec=noise*rec\n",
        "    image=image + rec\n",
        "    return image\n",
        "\n",
        "def simu_disc(image, f, radius=15, fields=0 ):  #radial decrease function  #or 12\n",
        "    channels,size,size2=image.size()\n",
        "    center=np.array([randint(radius, size-radius) , randint(radius, size-radius) ])\n",
        "    npdisc= f( ((np.arange(0,64)*np.ones([size,size])) - center[0])**2 + (np.transpose(np.arange(0,64)*np.ones([size,size]))-center[1])**2  , radius)\n",
        "    npdisc=np.random.uniform(0.6,1.) * npdisc  #variation on intensity\n",
        "    image[fields,:,:] = image[fields,:,:] + torch.from_numpy(npdisc).float()   #matrice des distances < rayon\n",
        "    return image\n",
        "\n",
        "def simu_disc_with_cond(image, f, radius=15, fields=0, f2 = lambda a,x  : ((np.sin(3.1 * a/x**2)))*(a < x**2) ):  #radial decrease function  #or 12\n",
        "    channels,size,size2=image.size()\n",
        "    center=np.array([randint(radius-5, size-radius+2) , randint(radius-2, size-radius+5) ])\n",
        "    npdisc= f( ((np.arange(0,64)*np.ones([size,size])) - center[0])**2 + (np.transpose(np.arange(0,64)*np.ones([size,size]))-center[1])**2  , radius)\n",
        "    npdisc=np.random.uniform(0.6,1.) * npdisc  #variation on intensity\n",
        "    image[0,:,:] = image[0,:,:] + torch.from_numpy(npdisc).float()   #matrice des distances < rayon\n",
        "    if (radius >= 10) and (radius <= 14):\n",
        "        npdon = f2( ((np.arange(0,64)*np.ones([size,size])) - center[0])**2 + (np.transpose(np.arange(0,64)*np.ones([size,size]))-center[1])**2  , radius)\n",
        "        image[1,:,:] = image[1,:,:] + torch.from_numpy(npdon).float()**2\n",
        "    return image\n",
        "\n",
        "\n",
        "def simu_square(image, f, diag=15, fields=0 ):  #radial decrease function  #or 12\n",
        "    channels,size,size2 = image.size()\n",
        "    center=np.array([randint(diag, size-diag) , randint(diag, size-diag) ])\n",
        "\n",
        "    npsquare = f(  np.abs(np.arange(0,64)*np.ones([size,size]) - center[0]) + \\\n",
        "                   np.abs(np.transpose(np.arange(0,64)*np.ones([size,size]))-center[1]), diag)\n",
        "#    npsquare = np.abs(np.arange(0,64)*np.ones([size,size]) - center[0])\n",
        "    npsquare = np.random.uniform(0.6,1.) * npsquare  #variation on intensity\n",
        "    image[fields,:,:] = image[fields,:,:] + torch.from_numpy(npsquare).float()   #matrice des distances < rayon\n",
        "    return image\n",
        "\n",
        "\n",
        "def plot_pairs(image, f = lambda x : x**2):\n",
        "    horizontal = (torch.randint(0,2,(1,)) > 0.5).item()\n",
        "#    print(horizontal)\n",
        "    dist = torch.randint(1,32, (1,)).item()\n",
        "    if horizontal :\n",
        "        ordo = torch.randint(0, 64, (1,)).item()\n",
        "        absi = torch.randint(0, 64 - dist, (1,)).item()\n",
        "        image[1, ordo, absi:(absi + dist + 1)] \\\n",
        "            += 0.1 + torch.mean(f(image[0, ordo, absi:(absi + dist + 1)]))\n",
        "    else :\n",
        "        ordo = torch.randint(0, 64 - dist, (1,)).item()\n",
        "        absi = torch.randint(0, 64, (1,)).item()\n",
        "        image[1, ordo:ordo+dist+1, absi] \\\n",
        "            += 0.1 + torch.mean(f(image[0, ordo:ordo+dist+1, absi]))\n",
        "    return image\n",
        "\n",
        "\n",
        "def generate_noise(image, lambda_rec=0.001 ,lambda_noisy_rec = 0.001, lambda_disc = 0.001, lambda_square = 0., pola=[0,0.5,0.1]):\n",
        "    for k in range(np.random.poisson(lambda_disc*64*64)):\n",
        "        r = randint(5,10)\n",
        "        image=simu_disc(image, lambda a,x  : (0.39 - 0.36*a/x**2)*(a < x**2) ,radius = r)  #0.47 pour avoir 40 dB\n",
        "    for k in range(np.random.poisson(lambda_square*64*64)):\n",
        "        r = randint(5,10)\n",
        "        image=simu_square(image, lambda a,x  : (0.5 - 0.45*a/x)*(a < x) , diag = r)  #0.47 pour avoir 40 dB\n",
        "#        print(r)\n",
        "\n",
        "    for i in range(np.random.poisson(lambda_rec*64*64)):\n",
        "        L=randint(20,50)\n",
        "        l=randint(2,10)\n",
        "        image= simu_rec(image,L,l)\n",
        "    for j in range(np.random.poisson(lambda_noisy_rec*64*64)):\n",
        "        L=randint(10,30)\n",
        "        l=randint(10,30)\n",
        "        image= simu_noisy_rec(image,L,l)\n",
        "        # 0.3*np.exp(-0.1 * a/x)*(a < x**2)  #image=simu_disque(image, lambda a,x  : 1.0*(a < x**2)  )\n",
        "    if pola[0]==1:      #add a pseudo pola field\n",
        "        image_pola = generate_pola(image,pola)\n",
        "        image=torch.cat([image,image_pola],dim=0)\n",
        "    return image\n",
        "\n",
        "\n",
        "def generate_noise_with_cond(image, lambda_rec=0.001 ,lambda_noisy_rec = 0.001, lambda_disc = 0.001, lambda_square = 0., pola=[0,0.5,0.1]):\n",
        "    for k in range(np.random.poisson(lambda_disc*64*64)):\n",
        "        r = randint(6,18)\n",
        "        image=simu_disc_with_cond(image, lambda a,x  : (0.39 - 0.36*a/x**2)*(a < x**2) ,radius = r)  #0.47 pour avoir 40 dB\n",
        "    for k in range(np.random.poisson(lambda_square*64*64)):\n",
        "        r = randint(5,10)\n",
        "        image=simu_square(image, lambda a,x  : (0.5 - 0.45*a/x)*(a < x) , diag = r)  #0.47 pour avoir 40 dB\n",
        "#        print(r)\n",
        "\n",
        "    for i in range(np.random.poisson(lambda_rec*64*64)):\n",
        "        L=randint(20,50)\n",
        "        l=randint(2,10)\n",
        "        image= simu_rec(image,L,l)\n",
        "    for j in range(np.random.poisson(lambda_noisy_rec*64*64)):\n",
        "        L=randint(10,30)\n",
        "        l=randint(10,30)\n",
        "        image= simu_noisy_rec(image,L,l)\n",
        "        # 0.3*np.exp(-0.1 * a/x)*(a < x**2)  #image=simu_disque(image, lambda a,x  : 1.0*(a < x**2)  )\n",
        "    return image\n",
        "\n",
        "\n",
        "def generate_noise_and_pairs(image, lambda_pairs = 0.01, lambda_rec=0.001 ,lambda_noisy_rec = 0.001, lambda_disc = 0.001, lambda_square = 0., pola=[0,0.5,0.1]):\n",
        "    for k in range(np.random.poisson(lambda_disc*64*64)):\n",
        "        r = randint(5,10)\n",
        "        image=simu_disc(image, lambda a,x  : (0.39 - 0.36*a/x**2)*(a < x**2) ,radius = r)  #0.47 pour avoir 40 dB\n",
        "    for k in range(np.random.poisson(lambda_square*64*64)):\n",
        "        r = randint(5,10)\n",
        "        image=simu_square(image, lambda a,x  : (0.5 - 0.45*a/x)*(a < x) , diag = r)  #0.47 pour avoir 40 dB\n",
        "#        print(r)\n",
        "\n",
        "    for i in range(np.random.poisson(lambda_rec*64*64)):\n",
        "        L=randint(20,50)\n",
        "        l=randint(2,10)\n",
        "        image= simu_rec(image,L,l)\n",
        "    for j in range(np.random.poisson(lambda_noisy_rec*64*64)):\n",
        "        L=randint(10,30)\n",
        "        l=randint(10,30)\n",
        "        image = simu_noisy_rec(image,L,l)\n",
        "        # 0.3*np.exp(-0.1 * a/x)*(a < x**2)  #image=simu_disque(image, lambda a,x  : 1.0*(a < x**2)  )\n",
        "    # on ajoute le deuxième canal où les échanges entre signaux seront\n",
        "    # représentés\n",
        "\n",
        "    image2 = torch.zeros([1,64, 64])\n",
        "    image = torch.cat([image,image2], dim = 0 )\n",
        "\n",
        "    for j in range(np.random.poisson(lambda_pairs*64*64)):\n",
        "        image = plot_pairs(image)\n",
        "\n",
        "    return image\n",
        "\n",
        "\n",
        "def make_image(rec, noisy_rec ,disc,square=0., pola=[0]):\n",
        "    image=torch.zeros([1,64, 64])\n",
        "    image = generate_noise(image, lambda_rec=rec, lambda_noisy_rec = noisy_rec,lambda_disc = disc, lambda_square = square, pola= pola)\n",
        "    return image\n",
        "\n",
        "def make_image_with_cond(rec, noisy_rec ,disc,square=0., pola=[0]):\n",
        "    image = torch.zeros([2, 64, 64])\n",
        "    image = generate_noise_with_cond(image, lambda_rec=rec, lambda_noisy_rec = noisy_rec,lambda_disc = disc, lambda_square = square, pola= pola)\n",
        "    return image\n",
        "\n",
        "def make_batch(batch_size, rec, noisy_rec ,disc, square=0., pola=[0] ):\n",
        "    out = make_image(rec, noisy_rec ,disc , square, pola ).unsqueeze(0)\n",
        "    for i in range(batch_size-1):\n",
        "        new=make_image(rec, noisy_rec ,disc, square, pola).unsqueeze(0)\n",
        "        out=torch.cat((out,new), dim=0)\n",
        "    return out\n",
        "\n",
        "def make_batch_with_cond(batch_size, rec, noisy_rec ,disc, square=0.):\n",
        "    out = make_image_with_cond(rec, noisy_rec ,disc , square).unsqueeze(0)\n",
        "    for i in range(batch_size-1):\n",
        "        new=make_image_with_cond(rec, noisy_rec ,disc, square).unsqueeze(0)\n",
        "        out=torch.cat((out,new), dim=0)\n",
        "    return out\n",
        "\n",
        "def make_image_with_pairs(rec, freq_integrated_signals, noisy_rec ,disc,square=0., pola=[0]):\n",
        "    image=torch.zeros([1,64, 64])\n",
        "    image = generate_noise_and_pairs(image, lambda_pairs = freq_integrated_signals, lambda_rec=rec, lambda_noisy_rec = noisy_rec,lambda_disc = disc, lambda_square = square, pola= pola)\n",
        "    return image\n",
        "\n",
        "def make_batch_with_pairs(batch_size, freq_integrated_signals, rec, noisy_rec, disc, square=0., pola=[0] ):\n",
        "    out=make_image_with_pairs(rec, freq_integrated_signals, noisy_rec ,disc , square, pola ).unsqueeze(0)\n",
        "    for i in range(batch_size - 1):\n",
        "        new=make_image_with_pairs(rec, freq_integrated_signals, noisy_rec, disc, square, pola).unsqueeze(0)\n",
        "        out=torch.cat((out,new), dim = 0)\n",
        "    return out\n",
        "\n",
        "\n",
        "##############################################################################################\n",
        "################################   UNet (parties)#############################################\n",
        "import torch\n",
        "import torch.nn as nn\n",
        "import torch.nn.functional as F\n",
        "\n",
        "class double_conv(nn.Module):\n",
        "    '''(conv => BN => ReLU) * 2'''\n",
        "    def __init__(self, in_ch, out_ch):\n",
        "        super(double_conv, self).__init__()\n",
        "        self.conv = nn.Sequential(\n",
        "            nn.Conv2d(in_ch, out_ch, 3, padding=1),\n",
        "            nn.BatchNorm2d(out_ch),\n",
        "            nn.ReLU(inplace=True),\n",
        "            nn.Conv2d(out_ch, out_ch, 3, padding=1),\n",
        "            nn.BatchNorm2d(out_ch),\n",
        "            nn.ReLU(inplace=True)\n",
        "        )\n",
        "\n",
        "    def forward(self, x):\n",
        "        x = self.conv(x)\n",
        "        return x\n",
        "\n",
        "\n",
        "class inconv(nn.Module):\n",
        "    def __init__(self, in_ch, out_ch):\n",
        "        super(inconv, self).__init__()\n",
        "        self.conv = double_conv(in_ch, out_ch)\n",
        "\n",
        "    def forward(self, x):\n",
        "        x = self.conv(x)\n",
        "        return x\n",
        "\n",
        "\n",
        "class Down(nn.Module):\n",
        "    def __init__(self, in_ch, out_ch):\n",
        "        super(Down, self).__init__()\n",
        "        self.mpconv = nn.Sequential(\n",
        "            nn.MaxPool2d(2),\n",
        "            double_conv(in_ch, out_ch)\n",
        "        )\n",
        "\n",
        "    def forward(self, x):\n",
        "        x = self.mpconv(x)\n",
        "        return x\n",
        "\n",
        "#Given transposed=1, weight[1024, 256, 2, 2], so expected input[64, 512, 4, 4] to have 1024 channels, but got 512 channels instead\n",
        "\n",
        "class Up(nn.Module):\n",
        "    def __init__(self, in_ch, out_ch, bilinear=False):\n",
        "        super(Up, self).__init__()\n",
        "        if bilinear:\n",
        "            self.up = nn.Upsample(scale_factor=2, mode='bilinear')#nn.UpsamplingBilinear2d(scale_factor=2)\n",
        "        else:\n",
        "            self.up = nn.ConvTranspose2d(in_ch, in_ch, kernel_size=2, stride=2)\n",
        "\n",
        "        self.conv = double_conv(2*in_ch, out_ch)\n",
        "\n",
        "    def forward(self, x1, x2):\n",
        "        x1 = self.up(x1)\n",
        "        diffX = x1.size()[2] - x2.size()[2]\n",
        "        diffY = x1.size()[3] - x2.size()[3]\n",
        "        x2 = F.pad(x2, (diffX // 2, int(diffX / 2),\n",
        "                        diffY // 2, int(diffY / 2)))\n",
        "        x = torch.cat([x2, x1], dim=1)\n",
        "        x = self.conv(x)\n",
        "        return x\n",
        "\n",
        "\n",
        "class outconv(nn.Module):\n",
        "    def __init__(self, in_ch, out_ch):\n",
        "        super(outconv, self).__init__()\n",
        "        self.conv = nn.Conv2d(in_ch, out_ch, 1)\n",
        "\n",
        "\n",
        "    def forward(self, x):\n",
        "        x = self.conv(x)\n",
        "        return x\n",
        "\n",
        "\n",
        "###############################################################################################################################################\n",
        "########################################Montage Unet ################################################################################\n",
        "\n",
        "class UNet(nn.Module):\n",
        "    def __init__(self, n_channels, n_classes,size=64):\n",
        "        super(UNet, self).__init__()\n",
        "        self.inc = inconv(n_channels, size)\n",
        "        self.down1 = Down(size, 2*size)\n",
        "        self.down2 = Down(2*size, 4*size)\n",
        "        self.down3 = Down(4*size, 8*size)\n",
        "        self.down4 = Down(8*size, 8*size)\n",
        "        self.up1 = Up(8*size, 4*size)\n",
        "        #self.up12 = up(16*size, 4*size)\n",
        "        self.up2 = Up(4*size, 2*size)\n",
        "        #self.up22 = up(8*size, 2*size)\n",
        "        self.up3 = Up(2*size, size)\n",
        "        #self.up32 = up(4*size, size)\n",
        "        self.up4 = Up(size, size)\n",
        "        #self.up42 = up(2*size, size)\n",
        "        self.outc = outconv(size, n_classes)\n",
        "        self.outc2 = outconv(size, n_classes)\n",
        "        self.n_classes=n_classes\n",
        "\n",
        "    def forward(self, x):\n",
        "        x1 = self.inc(x)\n",
        "        x2 = self.down1(x1)\n",
        "        x3 = self.down2(x2)\n",
        "        x4 = self.down3(x3)\n",
        "        x5 = self.down4(x4)\n",
        "        x = self.up1(x5, x4)\n",
        "        del x4, x5\n",
        "        x = self.up2(x, x3)\n",
        "        del x3\n",
        "        x = self.up3(x, x2)\n",
        "        del x2\n",
        "        x = self.up4(x, x1)\n",
        "        del x1\n",
        "        x = self.outc(x)\n",
        "        return   x\n",
        "\n",
        "#%\n",
        "class UNet_cal(nn.Module):\n",
        "    def __init__(self, n_channels, n_classes,size=64):\n",
        "        super(UNet_cal, self).__init__()\n",
        "        self.inc = inconv(n_channels, size)\n",
        "        self.down1 = Down(size, 2*size)\n",
        "        self.down2 = Down(2*size, 4*size)\n",
        "        self.down3 = Down(4*size, 8*size)\n",
        "        self.down4 = Down(8*size, 8*size)\n",
        "        self.up1 = Up(8*size, 4*size)\n",
        "        #self.up12 = up(16*size, 4*size)\n",
        "        self.up2 = Up(4*size, 2*size)\n",
        "        #self.up22 = up(8*size, 2*size)\n",
        "        self.up3 = Up(2*size, size)\n",
        "        #self.up32 = up(4*size, size)\n",
        "        self.up4 = Up(size, size)\n",
        "        #self.up42 = up(2*size, size)\n",
        "        self.outc = outconv(size, n_classes)\n",
        "        self.outc2 = outconv(size, n_classes)\n",
        "        self.n_classes=n_classes\n",
        "        #Pour la partie étalonnage :\n",
        "        self.cal1 = nn.Linear(1,5)\n",
        "        self.cal2 = nn.Linear(5,5)\n",
        "        self.cal3 = nn.Linear(5,1)\n",
        "        self.r = nn.ReLU()\n",
        "\n",
        "    def forward(self, x):\n",
        "        x1 = self.inc(x)\n",
        "        x2 = self.down1(x1)\n",
        "        x3 = self.down2(x2)\n",
        "        x4 = self.down3(x3)\n",
        "        x5 = self.down4(x4)\n",
        "        x = self.up1(x5, x4)\n",
        "        del x4, x5\n",
        "        x = self.up2(x, x3)\n",
        "        del x3\n",
        "        x = self.up3(x, x2)\n",
        "        del x2\n",
        "        x = self.up4(x, x1)\n",
        "        del x1\n",
        "        x = self.outc(x)\n",
        "\n",
        "        # PArtie calibration :\n",
        "        z = x.transpose(1, 3)\n",
        "        z = self.r(self.cal1(z))\n",
        "        z = self.r(self.cal2(z))\n",
        "        z = torch.tan(self.cal3(z))\n",
        "        z = z.transpose(1, 3)\n",
        "\n",
        "        return   x, z\n",
        "\n",
        "\n",
        "\n",
        "#nn.Tanh()\n",
        "\n",
        "##############################################################################################\n",
        "################################       spécifique au TP     ##################################\n",
        "\n",
        "def gen(n):  #exercice 1 partie 1\n",
        "  target = make_batch(n, rec = 0., noisy_rec= 0., disc = 0.002)\n",
        "  noise =  make_batch(n, rec = 0.0003, noisy_rec= 0.0003, disc = 0.)\n",
        "  return  target + noise, target     #bruit additif trivial\n",
        "\n",
        "def gen_noise2noise(n):\n",
        "  target = make_batch(n, rec = 0., noisy_rec= 0., disc = 0.002)\n",
        "  noise1 =  make_batch(n, rec = 0.0005, noisy_rec= 0.0005, disc = 0.)\n",
        "  noise2 =  make_batch(n, rec = 0.0005, noisy_rec= 0.0005, disc = 0.)\n",
        "  return  target + noise1, target + noise2\n",
        "\n",
        "def gen1_NES(n):\n",
        "  noisy_image = make_batch(n, rec = 0.0003, noisy_rec= 0.0003, disc = 0.002)\n",
        "  return  noisy_image\n",
        "\n",
        "def gen2_NES(n):\n",
        "  noise1 =  make_batch(n, rec = 0.0003, noisy_rec= 0.0003, disc = 0.)\n",
        "  return  noise1\n",
        "\n",
        "\n",
        "def gen_proba(n):\n",
        "  target1 = make_batch(n, rec = 0., noisy_rec= 0., disc = 0.001)\n",
        "  m1 = torch.normal(target1**2, 0.2*target1)\n",
        "  input = target1\n",
        "  target =   m1\n",
        "  return  input, target\n",
        "\n",
        "def gen_ponct(n, p = 0.01):\n",
        "  input = make_batch(n, rec = 0., noisy_rec= 0., disc = 0.001)\n",
        "  fulltarget = 2*input**2\n",
        "  sb = torch.bernoulli(0*fulltarget + p)         # En moyenne,2% des pixels sont couverts par une mesure ponctuelle\n",
        "\n",
        "  #cible fragmentaire\n",
        "  target = fulltarget*(sb) + (-1)*(1 - sb)\n",
        "\n",
        "  return  input, target, fulltarget\n",
        "\n",
        "\n",
        "\n",
        "\n",
        "def gen1(n, p = 0.02):\n",
        "  target1 = make_batch(n, rec = 0.001, noisy_rec= 0., disc = 0.)\n",
        "  target2 = make_batch(n, rec = 0., noisy_rec= 0., disc = 0.001)\n",
        "  s1 = 0.4*target1  #premier type de cellule: signal-cible faible\n",
        "  s2 = 2*target2**2  #second type: signal-cible fort\n",
        "  sb = torch.bernoulli(0*target1 + p)         # En moyenne,2% des pixels sont couverts par une mesure ponctuelle\n",
        "  noise =  make_batch(n, rec = 0., noisy_rec= 0.0002, disc = 0.)\n",
        "\n",
        "  input = target1 + target2 + noise\n",
        "  fulltarget =   s1 + s2\n",
        "\n",
        "  #cible fragmentaire\n",
        "  target = fulltarget*sb + (-1)*(1 - sb)\n",
        "\n",
        "  return  input, target, fulltarget\n",
        "\n",
        "\n",
        "def gen2(n, p = 0.02):\n",
        "  target1 = make_batch(n, rec = 0., noisy_rec= 0., disc = 0.001)\n",
        "  target2 = make_batch(n, rec = 0., noisy_rec= 0., disc = 0.001)\n",
        "  # target3 = make_batch(n, rec = 0.001, noisy_rec= 0., disc = 0.)\n",
        "  s1 = 0.4*target1  #premier type de cellule: signal-cible faible\n",
        "  s2 = 1.6*target2  #second type: signal-cible fort\n",
        "  sb = torch.bernoulli(0*target1 + p)         # En moyenne,2% des pixels sont couverts par une mesure ponctuelle\n",
        "\n",
        "  #noise =  make_batch(n, rec = 0.0003, noisy_rec= 0.0003, disc = 0.)\n",
        "\n",
        "  input = target1 + target2 #+ target3\n",
        "  fulltarget =   s1 + s2\n",
        "\n",
        "  #cible fragmentaire\n",
        "  target = fulltarget*sb + (-1)*(1 - sb)\n",
        "\n",
        "  return  input, target, fulltarget\n",
        "\n",
        "\n",
        "  def simu_1disc(image, mean, sigma, f, radius=15, fields=0 ):  #radial decrease function  #or 12\n",
        "    channels,size,size2=image.size()\n",
        "    center=np.array([randint(radius, size-radius) , randint(radius, size-radius) ])\n",
        "    npdisc= f( ((np.arange(0,64)*np.ones([size,size])) - center[0])**2 + (np.transpose(np.arange(0,64)*np.ones([size,size]))-center[1])**2  , radius)\n",
        "    npdisc = torch.from_numpy(npdisc).float()\n",
        "    noise = torch.randn(channels,size,size2)\n",
        "    npdisc = (mean + sigma*noise)* npdisc   #bruitage du disque\n",
        "    image[fields,:,:] = image[fields,:,:] + npdisc   #matrice des distances < rayon\n",
        "    return image\n",
        "\n",
        "def make_image2():\n",
        "    image=torch.zeros([1,64, 64])\n",
        "    f = lambda a,x  : (a < x**2)\n",
        "    r = randint(5,10)\n",
        "    rplus = randint(5,8)\n",
        "    md0= np.random.uniform(0,1)\n",
        "    md1= np.random.uniform(0,1)\n",
        "    image=simu_1disc(image, md0, 0, f  ,radius = r)\n",
        "    image=simu_1disc(image, md1, 0, f  ,radius = r+rplus)\n",
        "#    L=randint(50,60)\n",
        "#    l=randint(2,10)\n",
        "#    image= simu_rec(image,L,l)\n",
        "    return image.unsqueeze(0), torch.tensor(md0).reshape((1,1))\n",
        "\n",
        "def gen_paires(batch_size):\n",
        "\n",
        "    out0,y0=make_image2()\n",
        "    out1,y1=make_image2()\n",
        "\n",
        "\n",
        "    for i in range(batch_size-1):\n",
        "        new0,newy0=make_image2()\n",
        "        out0=torch.cat((out0,new0), dim=0)\n",
        "        y0=torch.cat((y0,newy0), dim=0)\n",
        "        new1,newy1=make_image2()\n",
        "        out1=torch.cat((out1,new1), dim=0)\n",
        "        y1=torch.cat((y1,newy1), dim=0)\n",
        "    return out0,out1, (y0<y1).int(), y0, y1\n",
        "\n",
        "\n",
        "def gen_image_with_integrated_signals(batch_size, p):\n",
        "    freq_integrated_signals = 0.005\n",
        "    image = make_batch_with_pairs(batch_size, freq_integrated_signals, 0, 0 ,0.001, square=0., pola=[0] )\n",
        "    full_target = image[:,[0],:,:] #2*x**2\n",
        "    sb = torch.bernoulli(0*full_target + p)         # En moyenne,2% des pixels sont couverts par une mesure ponctuelle\n",
        "    #cond (ex. cible fragmentaire)\n",
        "    partial_target = full_target*sb + (-1)*(1 - sb)\n",
        "    integrated_signals = image[:,[1],:,:]\n",
        "\n",
        "    return full_target, partial_target, integrated_signals\n",
        "\n",
        "#% Générations des alphas, betas :\n",
        "\"\"\"\n",
        "if 'alphas.pt' not in os.listdir('data'):\n",
        "    alphas = 0.1 + 2*0.1*torch.rand((1,1,64,64))\n",
        "    betas = -1 + 2*torch.rand((1,1,64,64))\n",
        "    torch.save(alphas,'alphas.pt')\n",
        "    torch.save(betas,'betas.pt')\n",
        "\n",
        "alphas = torch.load('data/alphas.pt')\n",
        "betas = torch.load('data/betas.pt')\n",
        "\"\"\"\n",
        "\n",
        "def gen_inputs_and_uncal_measurements_train(batch_size, p=0.2):\n",
        "    image = make_batch_with_cond(batch_size, 0.0003, 0.0003 ,0.0007, square=0.)\n",
        "    inputs = image[:,[0],:,:]\n",
        "    correct_targets = image[:,[1],:,:]\n",
        "    # sensor2020 = correct_targets[:,0,20,20]\n",
        "    # sensor4040 = correct_targets[:,0,40,40]\n",
        "    full_uncal_measurements = betas + alphas * correct_targets\n",
        "    sb = torch.bernoulli(0*full_uncal_measurements + p)         # En moyenne,2% des pixels sont couverts par une mesure ponctuelle\n",
        "    #cond (ex. cible fragmentaire)\n",
        "    partial_uncal_measurements = full_uncal_measurements*sb + (-100)*(1 - sb)\n",
        "    partial_uncal_measurements[:,0,20,20] = correct_targets[:,0,20,20]\n",
        "    partial_uncal_measurements[:,0,40,40] = correct_targets[:,0,40,40]\n",
        "    return inputs, partial_uncal_measurements\n",
        "\n",
        "\n",
        "def gen_inputs_and_uncal_measurements_test(batch_size, p=0.2):\n",
        "    image = make_batch_with_cond(batch_size, 0.0003, 0.0003 ,0.0007, square=0.)\n",
        "    inputs = image[:,[0],:,:]\n",
        "    correct_targets = image[:,[1],:,:]\n",
        "    # sensor2020 = correct_targets[:,0,20,20]\n",
        "    # sensor4040 = correct_targets[:,0,40,40]\n",
        "    full_uncal_measurements = betas + alphas * correct_targets\n",
        "    sb = torch.bernoulli(0*full_uncal_measurements + p)         # En moyenne,2% des pixels sont couverts par une mesure ponctuelle\n",
        "    # cond (ex. cible fragmentaire)\n",
        "    partial_uncal_measurements = full_uncal_measurements*sb + (-100)*(1 - sb)\n",
        "    partial_uncal_measurements[:,0,20,20] = correct_targets[:,0,20,20]\n",
        "    partial_uncal_measurements[:,0,40,40] = correct_targets[:,0,40,40]\n",
        "    return inputs, corrects_targets, partial_uncal_measurements\n",
        "\n",
        "\n",
        "\n",
        "def gen_inputs_and_uncal_measurements(batch_size, p=0.2):\n",
        "\n",
        "    image = make_batch_with_cond(batch_size, 0.0003, 0.0003 ,0.0007, square=0.)\n",
        "    inputs = image[:,[0],:,:]\n",
        "    correct_targets = image[:,[1],:,:]\n",
        "    sensor2020 = correct_targets[:,0,20,20]\n",
        "    sensor4040 = correct_targets[:,0,40,40]\n",
        "    full_uncal_measurements = betas + alphas * correct_targets\n",
        "\n",
        "    sb = torch.bernoulli(0*full_uncal_measurements + p)         # En moyenne,2% des pixels sont couverts par une mesure ponctuelle\n",
        "    #cond (ex. cible fragmentaire)\n",
        "    partial_uncal_measurements = full_uncal_measurements*sb + (-100)*(1 - sb)\n",
        "\n",
        "    return inputs, correct_targets, partial_uncal_measurements, sensor2020, sensor4040\n",
        "\n"
      ],
      "metadata": {
        "id": "yjMf4U6Ko3Pq"
      },
      "execution_count": 6,
      "outputs": []
    },
    {
      "cell_type": "markdown",
      "source": [
        "## Partie I : régression sur une cible incomplète\n",
        "\n",
        "La fonction *gen1* permet d'échantillonner des données d'apprentissage.\\\n",
        "Le paramètre *p* représente la proportion de pixels au niveau desquels les observations ponctuelles sont disponibles. Ces observations ponctuelles, contenues dans le deuxième tenseur fourni par *gen1*, sont positives ou nulles. Les pixels où elles manquent sont associés à la valeur -1.\\\n",
        "Le troisième tenseur correspond à la cible complète (cas idéal où *p*=1). C'est elle qu'on cherche à prédire.\n",
        "\n",
        "**NB**:\n",
        "- le deuxième tenseur est une version incomplète du troisième tenseur.\n",
        "- *gen1* peut être considéré comme un échantillonneur parfait des données d'apprentissage. Il ne produit jamais deux fois les mêmes images."
      ],
      "metadata": {
        "id": "-Gcw-8iz5aMn"
      }
    },
    {
      "cell_type": "code",
      "source": [
        "input,  target, fulltarget  = gen1(6,p=0.002)\n",
        "\n",
        "# input: prédicteur spatialisé\n",
        "fig0 = plt.figure(0, figsize=(30, 6))\n",
        "voir_batch2D(input, 6, fig0, k=0, min_scale=0, max_scale=1)\n",
        "\n",
        "# fulltarget: cible complète, qu'on ne peut pas utiliser pour l'apprentissage\n",
        "fig1 = plt.figure(1, figsize=(30, 6))\n",
        "voir_batch2D(fulltarget, 6, fig1, k=0, min_scale=0, max_scale=0.4)\n",
        "\n",
        "# target: cible incomplète\n",
        "fig2 = plt.figure(2, figsize=(30, 6))\n",
        "voir_batch2D(target, 6, fig2, k=0, min_scale=-0.1, max_scale=0.2)"
      ],
      "metadata": {
        "id": "rfhqeqmSjWZl",
        "outputId": "59f02f32-5bad-4ce6-f965-eb23f81f39af",
        "colab": {
          "base_uri": "https://localhost:8080/",
          "height": 625
        }
      },
      "execution_count": 8,
      "outputs": [
        {
          "output_type": "display_data",
          "data": {
            "text/plain": [
              "<Figure size 3000x600 with 2 Axes>"
            ],
            "image/png": "[encoded data removed]"
          },
          "metadata": {}
        },
        {
          "output_type": "display_data",
          "data": {
            "text/plain": [
              "<Figure size 3000x600 with 2 Axes>"
            ],
            "image/png": "[encoded data removed]"
          },
          "metadata": {}
        },
        {
          "output_type": "display_data",
          "data": {
            "text/plain": [
              "<Figure size 3000x600 with 2 Axes>"
            ],
            "image/png": "[encoded data removed]"
          },
          "metadata": {}
        }
      ]
    },
    {
      "cell_type": "markdown",
      "source": [
        "**Q1** Pour entraîner un réseau de neurones sur des cibles incomplètes, on définit la fonction de coût *masked_MAE*.\n",
        "Préciser le rôle du tenseur *mask*. Tester le bon fonctionnement de *masked_MAE* à l'aide d'un batch généré par *gen1*.\n",
        "       \n"
      ],
      "metadata": {
        "id": "MQRy8iJipbAO"
      }
    },
    {
      "cell_type": "code",
      "source": [
        "def masked_MAE(output, target, mask):\n",
        "  return (torch.abs(output-target))[mask].mean()"
      ],
      "metadata": {
        "id": "rjv4LsLCpdAp"
      },
      "execution_count": 9,
      "outputs": []
    },
    {
      "cell_type": "code",
      "source": [
        "input,target,_ = gen1(6,p=0.002)\n",
        "\n",
        "# prenons un output de la même dimension que l'entrée:\n",
        "output = 0 * input + 1\n",
        "\n",
        "# définissons le masque à partir de la cible fragmentaire:\n",
        "# (le masque permet de limiter le calcul aux valeurs qui sont renseignées)\n",
        "mask = target >= 0\n",
        "\n",
        "# Calculons la loss:\n",
        "loss = masked_MAE(output, target, mask)\n",
        "\n",
        "print(loss)"
      ],
      "metadata": {
        "id": "qtRCX6SNlhqM",
        "outputId": "ee7c4d0d-bbbd-4f87-c1fa-d56a7123abe9",
        "colab": {
          "base_uri": "https://localhost:8080/"
        }
      },
      "execution_count": 10,
      "outputs": [
        {
          "output_type": "stream",
          "name": "stdout",
          "text": [
            "tensor(0.9748)\n"
          ]
        }
      ]
    },
    {
      "cell_type": "markdown",
      "source": [
        "**Q2** Pour cette tâche de régression, nous allons entraîner un UNet. Précisez les différentes couches contenues dans ce UNet, leur rôle et le nombre de poids total qu'il contient."
      ],
      "metadata": {
        "id": "Run4TYdLAHAe"
      }
    },
    {
      "cell_type": "code",
      "source": [
        "fcn = UNet(1,1,16)\n",
        "\n"
      ],
      "metadata": {
        "id": "ov9-_CxgAwxO"
      },
      "execution_count": 12,
      "outputs": []
    },
    {
      "cell_type": "markdown",
      "source": [
        "**Q3** Dans la fonction *run_train* coder une époque de l'entraînement du UNet en exploitant la cible incomplète. Rester sur CPU. **Commenter votre code**. \\\n",
        "On utilisera les hyperparamètres suivants :"
      ],
      "metadata": {
        "id": "bDqu7k_a64sC"
      }
    },
    {
      "cell_type": "code",
      "source": [
        "# optim: Adam, lr = 0.001\n",
        "# batch par époque: 50\n",
        "# taille d'un batch: 64\n",
        "# p = 0.002"
      ],
      "metadata": {
        "id": "JoUI6Qh-5ou5"
      },
      "execution_count": null,
      "outputs": []
    },
    {
      "cell_type": "code",
      "source": [
        "import torch.optim as optim\n",
        "optimizer = optim.Adam(fcn.parameters(), 10**(-3))\n",
        "nbatches = 50\n",
        "batchsize = 64\n",
        "train_losses = []\n",
        "\n",
        "def run_train(fcn, optimizer, p = 0.002):\n",
        "\n",
        "\n",
        "\n",
        "  for batch in range(nbatches):\n",
        "\n",
        "    input,target,_ = gen1(batchsize,p)\n",
        "\n",
        "    optimizer.zero_grad()\n",
        "    output = fcn(input)\n",
        "    loss = masked_MAE(output, target, target >= 0)\n",
        "    loss.backward()\n",
        "    optimizer.step()\n",
        "\n",
        "    train_losses.append(loss.item())\n",
        "\n",
        "\n",
        "  return fcn, optimizer"
      ],
      "metadata": {
        "id": "l8BZz5Zy59i0"
      },
      "execution_count": 13,
      "outputs": []
    },
    {
      "cell_type": "code",
      "source": [
        "..."
      ],
      "metadata": {
        "id": "tZgrobX2E2pp"
      },
      "execution_count": null,
      "outputs": []
    },
    {
      "cell_type": "code",
      "source": [
        "import time\n",
        "t = time.time()\n",
        "run_train(fcn, optimizer, p = 0.002)\n",
        "print(time.time() - t)"
      ],
      "metadata": {
        "id": "spnTBGyhOjNc",
        "outputId": "2ac6922f-2c68-4796-805a-c599e522d721",
        "colab": {
          "base_uri": "https://localhost:8080/"
        }
      },
      "execution_count": 14,
      "outputs": [
        {
          "output_type": "stream",
          "name": "stdout",
          "text": [
            "59.18778419494629\n"
          ]
        }
      ]
    },
    {
      "cell_type": "markdown",
      "source": [
        "**Q4** Dans la fonction *run_train_gpu*, passer la phase d'entraînement sur GPU. Evaluer le speed-up."
      ],
      "metadata": {
        "id": "qT1SDI_uFSP1"
      }
    },
    {
      "cell_type": "code",
      "source": [
        "fcn = fcn.cuda()\n",
        "\n",
        "import torch.optim as optim\n",
        "optimizer = optim.Adam(fcn.parameters(), 10**(-3))\n",
        "nbatches = 50\n",
        "batchsize = 64\n",
        "train_losses = []\n",
        "\n",
        "def run_train_gpu(fcn, optimizer, p = 0.002):\n",
        "\n",
        "\n",
        "\n",
        "  for batch in range(nbatches):\n",
        "\n",
        "    input,target,_ = gen1(batchsize,p)\n",
        "    input,target = input.cuda(), target.cuda()\n",
        "\n",
        "    optimizer.zero_grad()\n",
        "    output = fcn(input)\n",
        "    loss = masked_MAE(output, target, target >= 0)\n",
        "    loss.backward()\n",
        "    optimizer.step()\n",
        "\n",
        "    train_losses.append(loss.item())\n",
        "    del output, target, loss\n",
        "    torch.cuda.empty_cache()\n",
        "\n",
        "\n",
        "  return fcn, optimizer"
      ],
      "metadata": {
        "id": "V-2qUrGHEy_N"
      },
      "execution_count": 17,
      "outputs": []
    },
    {
      "cell_type": "code",
      "source": [
        "..."
      ],
      "metadata": {
        "id": "vqoW1qnSE0wR"
      },
      "execution_count": null,
      "outputs": []
    },
    {
      "cell_type": "code",
      "source": [
        "# pour le calcul du speed-up\n",
        "import time\n",
        "t = time.time()\n",
        "run_train_gpu(fcn, optimizer, p = 0.002)\n",
        "print(time.time() - t)"
      ],
      "metadata": {
        "id": "DJQU5rZJHe0F",
        "outputId": "066f4ace-1369-464c-e13c-d5feb7131e75",
        "colab": {
          "base_uri": "https://localhost:8080/"
        }
      },
      "execution_count": 18,
      "outputs": [
        {
          "output_type": "stream",
          "name": "stdout",
          "text": [
            "9.469041109085083\n"
          ]
        }
      ]
    },
    {
      "cell_type": "markdown",
      "source": [
        "Dans les questions suivantes, nous allons chercher à évaluer l'effet de la densité des observations ponctuelles *p* sur les performances en généralisation au cours de l'entraînement."
      ],
      "metadata": {
        "id": "10BJBlJhCn07"
      }
    },
    {
      "cell_type": "markdown",
      "source": [
        "**Q5**  Pour comparer les performances en généralisation au cours de l'entraînement, on se permet d'utilise la MAE entre outputs et cibles **complètes**. En général, peut-on se permettre d'utiliser les mêmes données que celles qui ont été utilisées pendant la phase d'entraînement ? Est-ce le cas ici ? \\\n",
        "Dans la fonction *run_trainval_gpu()* suivante, évaluer les performances en généralisation au cours de l'entraînement (variable *epoch_MAE_validation*).\n",
        "Eviter tout calcul superflux."
      ],
      "metadata": {
        "id": "QmfdWQMfFzIk"
      }
    },
    {
      "cell_type": "code",
      "source": [
        "# L'étape de validation permet de contrôelr les performances en généralisation\n",
        "# (et en particulier, de assurer qu'il n'y a pas de surapprentissage).\n",
        "# Dans le cas général, le jeu de validation doit être indépendant du jeu d'entraînement.\n",
        "# Dans notre cas particulier, chaque batch d'entraînement est original et n'a jamais été vu par le modèle.\n",
        "# Il est donc possible de l'utiliser pour contrôler les perf. en généralisation.\n",
        "\n",
        "\n",
        "def run_trainval_gpu(fcn, optimizer, p = 0.002):\n",
        "  epoch_MAE_validations = []\n",
        "\n",
        "  for i in range(nbatches):    # nbatch = datasetsize/batchsize\n",
        "\n",
        "      input, target, complete_target = gen1(batchsize, p)\n",
        "      input, target, complete_target = input.cuda(), target.cuda(), complete_target.cuda()\n",
        "\n",
        "      optimizer.zero_grad()\n",
        "      output = fcn(input)\n",
        "      mask = (target >= 0).detach()\n",
        "\n",
        "      loss = masked_MAE(output, target, mask)\n",
        "      loss.backward()\n",
        "      optimizer.step()\n",
        "\n",
        "      # Pas de calcul superflux -> torch.no_grad()\n",
        "      with torch.no_grad():\n",
        "        batch_MAE_validation = torch.abs(output - complete_target).mean().cpu().item()\n",
        "        # print(batch_MAE_validation)\n",
        "        epoch_MAE_validations.append(batch_MAE_validation)\n",
        "\n",
        "\n",
        "      del output, target, loss\n",
        "      torch.cuda.empty_cache()\n",
        "\n",
        "  epoch_MAE_validation = np.mean(epoch_MAE_validations)\n",
        "  return fcn, optimizer, epoch_MAE_validation"
      ],
      "metadata": {
        "id": "-EhNB9xrKJS8"
      },
      "execution_count": null,
      "outputs": []
    },
    {
      "cell_type": "code",
      "source": [
        "fcn, optimizer, MAE_validation = run_trainval_gpu(fcn, optimizer, p = 0.002)"
      ],
      "metadata": {
        "id": "PNrvyk3PTk0r"
      },
      "execution_count": null,
      "outputs": []
    },
    {
      "cell_type": "markdown",
      "source": [
        "**Q6** Générer deux versions du UNet précédent comportant les **mêmes poids initiaux**. Entraîner ces versions sur cinquante époques, chacun pour une valeur de *p* différente : *p* = 0.01 et *p* = 0.002.\n",
        "**Commenter votre code**. Tracer et discuter les courbes d'apprentissage."
      ],
      "metadata": {
        "id": "8F47twjI56In"
      }
    },
    {
      "cell_type": "code",
      "source": [
        "nepochs = 50\n",
        "scores_1  = []\n",
        "scores_2  = []\n",
        "\n",
        "fcn = UNet(1,1,16)\n",
        "fcn2 = UNet(1,1,16)\n",
        "\n",
        "...\n",
        "\n",
        "for epoch in range(nepochs):\n",
        "\n",
        "    ...\n",
        "\n"
      ],
      "metadata": {
        "id": "XY6WR4HbFqX-"
      },
      "execution_count": null,
      "outputs": []
    },
    {
      "cell_type": "markdown",
      "source": [
        "**Q7** Combien faut-il d'époques supplémentaires au deuxième *fcn* pour rattraper le premier ?"
      ],
      "metadata": {
        "id": "gF8JTkseXm-T"
      }
    },
    {
      "cell_type": "code",
      "source": [],
      "metadata": {
        "id": "pn-7ODb8No1M"
      },
      "execution_count": null,
      "outputs": []
    },
    {
      "cell_type": "markdown",
      "source": [
        "## **Partie II** : cas où les observations ponctuelles peuvent aussi servir d'entrées.\n",
        "\n",
        "Dans cette partie, nous supposons que les observations ponctuelles sont disponibles non seulement pendant l'apprentissage, mais aussi en phase d'inférence.\n",
        "Il devient donc possible de l'utiliser comme une entrée.\n",
        "\n",
        "Avec la fonction *gen2*, cela va même s'avérer nécessaire : les observations ponctuelles contiennent une information essentielle à la prédiction de la cible complète.\n",
        "\n",
        "En effet, le premier tenseur founi par *gen2* (ligne 1 ci-dessous) permet de dire où sont les pixels associés à des valeurs non nulles dans la cible complète (ligne 2).\n",
        "Par contre, ce premier tenseur ne suffit pas à préciser l'intensité du signal cible : pour certaines cellules (premier type de cellules, en rouge sur la troisième ligne) le signal cible est plus fort que sur le premier tenseur, alors que pour d'autres cellules (deuxième type de cellule, en cyan), il est plus faible. Et rien dans le premier tenseur n'indique à quel type de cellule on a affaire."
      ],
      "metadata": {
        "id": "KDEdmQIOpRaZ"
      }
    },
    {
      "cell_type": "code",
      "source": [
        "input, target, fulltarget  = gen2(6,0.01)\n",
        "\n",
        "# ligne 1: le prédicteur spatialisé\n",
        "fig0 = plt.figure(0, figsize=(36, 6))\n",
        "voir_batch2D(input, 6, fig0, k=0, min_scale=0,max_scale=1)\n",
        "\n",
        "# ligne 2: le signal cible complet où les deux types de cellules apparaissent\n",
        "fig1 = plt.figure(1, figsize=(36, 6))\n",
        "voir_batch2D(fulltarget, 6, fig1, k=0, min_scale=0,max_scale=1)\n",
        "\n",
        "# ligne 3: le rapport entre les deux\n",
        "fig1 = plt.figure(1, figsize=(36, 6))\n",
        "voir_batch2D((fulltarget/input), 6, fig1, k=0, min_scale=0,max_scale=1)"
      ],
      "metadata": {
        "id": "Vjcwg9--rhje"
      },
      "execution_count": null,
      "outputs": []
    },
    {
      "cell_type": "code",
      "source": [
        "# les observations ponctuelles:\n",
        "fig2 = plt.figure(2, figsize=(36, 6))\n",
        "voir_batch2D(target, 6, fig2, k=0, min_scale=-0.1,max_scale=0.2)"
      ],
      "metadata": {
        "id": "rQR4YsQIuKkp"
      },
      "execution_count": null,
      "outputs": []
    },
    {
      "cell_type": "markdown",
      "source": [
        "Comme dans la partie I, les observations ponctuelles sont les seules parties de la cible disponibles au cours de l'entraînement. Mais, comme expliqué au-dessus, ces observations ponctuelles seront aussi disponibles en phase d'inférence. Comme elles contiennent une information essentielle, il va donc s'agir d'entraîner le réseau à les exploiter à la fois comme cibles et comme entrées.\n",
        "\n",
        "\n",
        "**NB:** De même que dans la partie I, dans le deuxième tenseur les valeurs manquantes sont codées par -1 et toutes les autres valeurs sont positives ou nulles."
      ],
      "metadata": {
        "id": "q0HUIlGBucBl"
      }
    },
    {
      "cell_type": "markdown",
      "source": [
        "**Q1** Dans un premier temps, entraîner un UNet **en n'utilisant que le premier tenseur (\"input\") en entrée**. Toutes les observations ponctuelles disponibles peuvent être utilisées dans la cible.\n",
        "Les autres consignes sont :\n",
        "- Choisir la fonction de coût de manière à estimer la **moyenne conditionnelle à l'entrée**.\n",
        "- Pour la phase de validation, évaluer l'écart entre la cible complète et les outputs de la phase d'entraînement (comme dans la partie I).\n",
        "- Utiliser les hyperparamètres ci-dessous:"
      ],
      "metadata": {
        "id": "wVaIW5lhvo40"
      }
    },
    {
      "cell_type": "code",
      "source": [
        "import torch.optim as optim\n",
        "fcn = UNet(1,1,16)\n",
        "nepochs = 15\n",
        "nbatches = 100\n",
        "batchsize = 64\n",
        "p = 0.01"
      ],
      "metadata": {
        "id": "aP_AuBdG-Dji"
      },
      "execution_count": null,
      "outputs": []
    },
    {
      "cell_type": "code",
      "source": [
        "scores_1  = []\n",
        "\n",
        "..."
      ],
      "metadata": {
        "id": "YqSjwzXoF16Z"
      },
      "execution_count": null,
      "outputs": []
    },
    {
      "cell_type": "markdown",
      "source": [
        "**Q2** Pourquoi les performances stagnent-elles ? Visualiser quelques outputs et vérifier que le réseau restitue simplement le champ d'entrée. Expliquer pourquoi, intuitivement."
      ],
      "metadata": {
        "id": "QxDYZdmmot7R"
      }
    },
    {
      "cell_type": "code",
      "source": [
        "fcn.eval()\n",
        "input,  target, fulltarget  = gen2(6, p)\n",
        "\n",
        "..."
      ],
      "metadata": {
        "id": "-vql7hgQt94P"
      },
      "execution_count": null,
      "outputs": []
    },
    {
      "cell_type": "markdown",
      "source": [
        "On cherche maintenant à utiliser une partie des observations ponctuelles comme prédicteurs.\\\n",
        "Une idée simple consiste à définir un deuxième tenseur d'entrée ne comptant (environ) qu'une observation ponctuelle sur deux. Les autres observations ponctuelles sont quant elles utilisées comme cible.\n",
        "\n",
        "**Q3** Mettre en oeuvre cette idée.\n",
        "\n",
        "**Remarques:**\n",
        "- La fonction *torch.bernoulli* permet de masquer environ 50% des valeurs d'un tenseur...\n",
        "- Attention à la mutabilité des tenseurs pytorch."
      ],
      "metadata": {
        "id": "Cnh1iKU4xFp0"
      }
    },
    {
      "cell_type": "code",
      "source": [
        "..."
      ],
      "metadata": {
        "id": "LKD6TlAPuGD3"
      },
      "execution_count": null,
      "outputs": []
    },
    {
      "cell_type": "markdown",
      "source": [
        "**Q4** Procéder à un apprentissage sur dix époques, comparer la courbe d'apprentissage obtenue avec la précédente et expliquer."
      ],
      "metadata": {
        "id": "1ID866RQyGBi"
      }
    },
    {
      "cell_type": "code",
      "source": [
        "nepochs = 15\n",
        "fcn = UNet(2,1,16).cuda()\n",
        "\n",
        "..."
      ],
      "metadata": {
        "id": "oq_MwFN58B9c"
      },
      "execution_count": null,
      "outputs": []
    },
    {
      "cell_type": "code",
      "source": [
        "scores_2  = []\n",
        "\n",
        "..."
      ],
      "metadata": {
        "id": "NQWF3KK8yNS2"
      },
      "execution_count": null,
      "outputs": []
    },
    {
      "cell_type": "code",
      "source": [],
      "metadata": {
        "id": "QnDTLbLHG8pR"
      },
      "execution_count": null,
      "outputs": []
    },
    {
      "cell_type": "markdown",
      "source": [
        "**Q5** Visualiser des batches d'outputs. Dans quelle mesure le réseau parvient-il à lever l'ambiguïté sur le type de cellule en présence ?"
      ],
      "metadata": {
        "id": "VvZlVd4a-XC0"
      }
    },
    {
      "cell_type": "code",
      "source": [
        "fcn.eval()\n",
        "input,  target, fulltarget  = gen2(6, p = 0.005)\n",
        "\n",
        "# prédicteur spatialisé\n",
        "fig0 = plt.figure(0, figsize=(36, 6))\n",
        "voir_batch2D(input, 6, fig0, k=0, min_scale=0,max_scale=1)\n",
        "\n",
        "# obs ponctuelles et cible complète\n",
        "fig1 = plt.figure(1, figsize=(36, 6))\n",
        "voir_batch2D((target>=0) + fulltarget, 6, fig1, k=0, min_scale=0.,max_scale=1)\n",
        "\n",
        "output = ...\n",
        "\n",
        "..."
      ],
      "metadata": {
        "id": "iMfpdk3w-CUL"
      },
      "execution_count": null,
      "outputs": []
    },
    {
      "cell_type": "markdown",
      "source": [
        "**Q6** Au cours d'un apprentissage, nous avons utilisé (environ) la moitié des observations ponctuelles à disposition. Quel peut être le défaut de cette approche ? Jouer sur la valeur de *p* pour illustrer votre propos."
      ],
      "metadata": {
        "id": "uKO6bebuySnt"
      }
    },
    {
      "cell_type": "markdown",
      "source": [
        "**Q7** Pour prédire la valeur d'un pixel, un FCN permet de prendre en compte le contexte, c'est à dire l'information contenue dans un large voisinage autour du pixel d'intérêt.\\\n",
        "Cette qualité était-elle nécessaire pour traiter la **partie I** du problème ? Etait-elle nécessaire pour traiter la **partie II** ? Justifier dans les deux cas."
      ],
      "metadata": {
        "id": "bXflqd_j-CzK"
      }
    }
  ],
  "metadata": {
    "colab": {
      "provenance": [],
      "gpuType": "T4"
    },
    "kernelspec": {
      "display_name": "Python 3",
      "name": "python3"
    },
    "accelerator": "GPU"
  },
  "nbformat": 4,
  "nbformat_minor": 0
}