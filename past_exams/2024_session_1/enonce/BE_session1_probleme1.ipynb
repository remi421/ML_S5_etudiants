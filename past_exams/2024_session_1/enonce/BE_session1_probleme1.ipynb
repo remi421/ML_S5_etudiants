{
  "cells": [
    {
      "cell_type": "markdown",
      "source": [
        "#Problème 1:\n",
        "\n",
        "\n",
        "\n"
      ],
      "metadata": {
        "id": "-1ciEeyNevrd"
      }
    },
    {
      "cell_type": "markdown",
      "source": [
        "Dans ce problème, il s'agit de reconstruire un champ spatialisé cible à partir d'un prédicteur spatialisé et d'observations ponctuelles.  \n",
        "Dans la première partie, on adapte simplement la procédure de régression pixel à pixel standard au cas où les données cibles ne sont renseignées qu'en quelques pixels (observations \"ponctuelles\").\\\n",
        "Dans la seconde partie, on entraîne un réseau à prendre les deux types de données, champ spatialisé et observations ponctuelles, en entrée pour reconstruire au mieux la cible complète.\n",
        "\n",
        "**NB**: Il vaut mieux traiter les deux parties dans l'ordre."
      ],
      "metadata": {
        "id": "mYKKIfhnju8N"
      }
    },
    {
      "cell_type": "code",
      "source": [
        "import os\n",
        "import random\n",
        "import torch\n",
        "import torch.nn as nn\n",
        "import torch.optim as optim\n",
        "import torch.utils.data\n",
        "import numpy as np\n",
        "import matplotlib.pyplot as plt"
      ],
      "metadata": {
        "id": "kljjYo2oii5T"
      },
      "execution_count": null,
      "outputs": []
    },
    {
      "cell_type": "code",
      "source": [
        "! wget https://www.grosfichiers.com/mfh8gy5ZmfB_zaQP9HZKdDk\n",
        "! mv mfh8gy5ZmfB_zaQP9HZKdDk utile_BE.py\n",
        "\n",
        "from utile_BE import *"
      ],
      "metadata": {
        "id": "yjMf4U6Ko3Pq"
      },
      "execution_count": null,
      "outputs": []
    },
    {
      "cell_type": "markdown",
      "source": [
        "## Partie I : régression sur une cible incomplète\n",
        "\n",
        "La fonction *gen1* permet d'échantillonner des données d'apprentissage.\\\n",
        "Le paramètre *p* représente la proportion de pixels au niveau desquels les observations ponctuelles sont disponibles. Ces observations ponctuelles, contenues dans le deuxième tenseur fourni par *gen1*, sont positives ou nulles. Les pixels où elles manquent sont associés à la valeur -1.\\\n",
        "Le troisième tenseur correspond à la cible complète (cas idéal où *p*=1). C'est elle qu'on cherche à prédire.\n",
        "\n",
        "**NB**:\n",
        "- le deuxième tenseur est une version incomplète du troisième tenseur.\n",
        "- *gen1* peut être considéré comme un échantillonneur parfait des données d'apprentissage. Il ne produit jamais deux fois les mêmes images."
      ],
      "metadata": {
        "id": "-Gcw-8iz5aMn"
      }
    },
    {
      "cell_type": "code",
      "source": [
        "input,  target, fulltarget  = gen1(6,p=0.002)\n",
        "\n",
        "# input: prédicteur spatialisé\n",
        "fig0 = plt.figure(0, figsize=(30, 6))\n",
        "voir_batch2D(input, 6, fig0, k=0, min_scale=0, max_scale=1)\n",
        "\n",
        "# fulltarget: cible complète, qu'on ne peut pas utiliser pour l'apprentissage\n",
        "fig1 = plt.figure(1, figsize=(30, 6))\n",
        "voir_batch2D(fulltarget, 6, fig1, k=0, min_scale=0, max_scale=0.4)\n",
        "\n",
        "# target: cible incomplète\n",
        "fig2 = plt.figure(2, figsize=(30, 6))\n",
        "voir_batch2D(target, 6, fig2, k=0, min_scale=-0.1, max_scale=0.2)"
      ],
      "metadata": {
        "id": "rfhqeqmSjWZl"
      },
      "execution_count": null,
      "outputs": []
    },
    {
      "cell_type": "markdown",
      "source": [
        "**Q1** Pour entraîner un réseau de neurones sur des cibles incomplètes, on définit la fonction de coût *masked_MAE*.\n",
        "Préciser le rôle du tenseur *mask*. Tester le bon fonctionnement de *masked_MAE* à l'aide d'un batch généré par *gen1*.\n",
        "       \n"
      ],
      "metadata": {
        "id": "MQRy8iJipbAO"
      }
    },
    {
      "cell_type": "code",
      "source": [
        "def masked_MAE(output, target, mask):\n",
        "  return (torch.abs(output-target))[mask].mean()"
      ],
      "metadata": {
        "id": "rjv4LsLCpdAp"
      },
      "execution_count": null,
      "outputs": []
    },
    {
      "cell_type": "markdown",
      "source": [
        "**Q2** Pour cette tâche de régression, nous allons entraîner un UNet. Précisez les différentes couches contenues dans ce UNet, leur rôle et le nombre de poids total qu'il contient."
      ],
      "metadata": {
        "id": "Run4TYdLAHAe"
      }
    },
    {
      "cell_type": "code",
      "source": [
        "fcn = UNet(1,1,16)"
      ],
      "metadata": {
        "id": "ov9-_CxgAwxO"
      },
      "execution_count": null,
      "outputs": []
    },
    {
      "cell_type": "markdown",
      "source": [
        "**Q3** Dans la fonction *run_train* coder une époque de l'entraînement du UNet en exploitant la cible incomplète. Rester sur CPU. **Commenter votre code**. \\\n",
        "On utilisera les hyperparamètres suivants :"
      ],
      "metadata": {
        "id": "bDqu7k_a64sC"
      }
    },
    {
      "cell_type": "code",
      "source": [
        "# optim: Adam, lr = 0.001\n",
        "# batch par époque: 50\n",
        "# taille d'un batch: 64\n",
        "# p = 0.002"
      ],
      "metadata": {
        "id": "JoUI6Qh-5ou5"
      },
      "execution_count": null,
      "outputs": []
    },
    {
      "cell_type": "code",
      "source": [
        "def run_train(fcn, optimizer, p = 0.002):\n",
        "\n",
        "  ...\n",
        "\n",
        "  return fcn, optimizer"
      ],
      "metadata": {
        "id": "l8BZz5Zy59i0"
      },
      "execution_count": null,
      "outputs": []
    },
    {
      "cell_type": "code",
      "source": [
        "..."
      ],
      "metadata": {
        "id": "tZgrobX2E2pp"
      },
      "execution_count": null,
      "outputs": []
    },
    {
      "cell_type": "code",
      "source": [
        "import time\n",
        "t = time.time()\n",
        "run_train(fcn, optimizer, p = 0.002)\n",
        "print(time.time() - t)"
      ],
      "metadata": {
        "id": "spnTBGyhOjNc"
      },
      "execution_count": null,
      "outputs": []
    },
    {
      "cell_type": "markdown",
      "source": [
        "**Q4** Dans la fonction *run_train_gpu*, passer la phase d'entraînement sur GPU. Evaluer le speed-up."
      ],
      "metadata": {
        "id": "qT1SDI_uFSP1"
      }
    },
    {
      "cell_type": "code",
      "source": [
        "def run_train_gpu(fcn, optimizer, p = 0.002):\n",
        "\n",
        "  ...\n",
        "\n",
        "  return fcn, optimizer"
      ],
      "metadata": {
        "id": "V-2qUrGHEy_N"
      },
      "execution_count": null,
      "outputs": []
    },
    {
      "cell_type": "code",
      "source": [
        "..."
      ],
      "metadata": {
        "id": "vqoW1qnSE0wR"
      },
      "execution_count": null,
      "outputs": []
    },
    {
      "cell_type": "code",
      "source": [
        "# pour le calcul du speed-up\n",
        "import time\n",
        "t = time.time()\n",
        "run_train_gpu(fcn, optimizer, p = 0.002)\n",
        "print(time.time() - t)"
      ],
      "metadata": {
        "id": "DJQU5rZJHe0F"
      },
      "execution_count": null,
      "outputs": []
    },
    {
      "cell_type": "markdown",
      "source": [
        "Dans les questions suivantes, nous allons chercher à évaluer l'effet de la densité des observations ponctuelles *p* sur les performances en généralisation au cours de l'entraînement."
      ],
      "metadata": {
        "id": "10BJBlJhCn07"
      }
    },
    {
      "cell_type": "markdown",
      "source": [
        "**Q5**  Pour comparer les performances en généralisation au cours de l'entraînement, on se permet d'utilise la MAE entre outputs et cibles **complètes**. En général, peut-on se permettre d'utiliser les mêmes données que celles qui ont été utilisées pendant la phase d'entraînement ? Est-ce le cas ici ? \\\n",
        "Dans la fonction *run_trainval_gpu()* suivante, évaluer les performances en généralisation au cours de l'entraînement (variable *epoch_MAE_validation*).\n",
        "Eviter tout calcul superflux."
      ],
      "metadata": {
        "id": "QmfdWQMfFzIk"
      }
    },
    {
      "cell_type": "code",
      "source": [
        "def run_trainval_gpu(fcn, optimizer, p = 0.002):\n",
        "\n",
        "  ...\n",
        "\n",
        "  return fcn, optimizer, epoch_MAE_validation"
      ],
      "metadata": {
        "id": "-EhNB9xrKJS8"
      },
      "execution_count": null,
      "outputs": []
    },
    {
      "cell_type": "code",
      "source": [
        "fcn, optimizer, MAE_validation = run_trainval_gpu(fcn, optimizer, p = 0.002)"
      ],
      "metadata": {
        "id": "PNrvyk3PTk0r"
      },
      "execution_count": null,
      "outputs": []
    },
    {
      "cell_type": "markdown",
      "source": [
        "**Q6** Générer deux versions du UNet précédent comportant les **mêmes poids initiaux**. Entraîner ces versions sur cinquante époques, chacun pour une valeur de *p* différente : *p* = 0.01 et *p* = 0.002.\n",
        "**Commenter votre code**. Tracer et discuter les courbes d'apprentissage."
      ],
      "metadata": {
        "id": "8F47twjI56In"
      }
    },
    {
      "cell_type": "code",
      "source": [
        "nepochs = 50\n",
        "scores_1  = []\n",
        "scores_2  = []\n",
        "\n",
        "fcn = UNet(1,1,16)\n",
        "fcn2 = UNet(1,1,16)\n",
        "\n",
        "...\n",
        "\n",
        "for epoch in range(nepochs):\n",
        "\n",
        "    ...\n",
        "\n"
      ],
      "metadata": {
        "id": "XY6WR4HbFqX-"
      },
      "execution_count": null,
      "outputs": []
    },
    {
      "cell_type": "markdown",
      "source": [
        "**Q7** Combien faut-il d'époques supplémentaires au deuxième *fcn* pour rattraper le premier ?"
      ],
      "metadata": {
        "id": "gF8JTkseXm-T"
      }
    },
    {
      "cell_type": "code",
      "source": [],
      "metadata": {
        "id": "pn-7ODb8No1M"
      },
      "execution_count": null,
      "outputs": []
    },
    {
      "cell_type": "markdown",
      "source": [
        "## **Partie II** : cas où les observations ponctuelles peuvent aussi servir d'entrées.\n",
        "\n",
        "Dans cette partie, nous supposons que les observations ponctuelles sont disponibles non seulement pendant l'apprentissage, mais aussi en phase d'inférence.\n",
        "Il devient donc possible de l'utiliser comme une entrée.\n",
        "\n",
        "Avec la fonction *gen2*, cela va même s'avérer nécessaire : les observations ponctuelles contiennent une information essentielle à la prédiction de la cible complète.\n",
        "\n",
        "En effet, le premier tenseur founi par *gen2* (ligne 1 ci-dessous) permet de dire où sont les pixels associés à des valeurs non nulles dans la cible complète (ligne 2).\n",
        "Par contre, ce premier tenseur ne suffit pas à préciser l'intensité du signal cible : pour certaines cellules (premier type de cellules, en rouge sur la troisième ligne) le signal cible est plus fort que sur le premier tenseur, alors que pour d'autres cellules (deuxième type de cellule, en cyan), il est plus faible. Et rien dans le premier tenseur n'indique à quel type de cellule on a affaire."
      ],
      "metadata": {
        "id": "KDEdmQIOpRaZ"
      }
    },
    {
      "cell_type": "code",
      "source": [
        "input, target, fulltarget  = gen2(6,0.01)\n",
        "\n",
        "# ligne 1: le prédicteur spatialisé\n",
        "fig0 = plt.figure(0, figsize=(36, 6))\n",
        "voir_batch2D(input, 6, fig0, k=0, min_scale=0,max_scale=1)\n",
        "\n",
        "# ligne 2: le signal cible complet où les deux types de cellules apparaissent\n",
        "fig1 = plt.figure(1, figsize=(36, 6))\n",
        "voir_batch2D(fulltarget, 6, fig1, k=0, min_scale=0,max_scale=1)\n",
        "\n",
        "# ligne 3: le rapport entre les deux\n",
        "fig1 = plt.figure(1, figsize=(36, 6))\n",
        "voir_batch2D((fulltarget/input), 6, fig1, k=0, min_scale=0,max_scale=1)"
      ],
      "metadata": {
        "id": "Vjcwg9--rhje"
      },
      "execution_count": null,
      "outputs": []
    },
    {
      "cell_type": "code",
      "source": [
        "# les observations ponctuelles:\n",
        "fig2 = plt.figure(2, figsize=(36, 6))\n",
        "voir_batch2D(target, 6, fig2, k=0, min_scale=-0.1,max_scale=0.2)"
      ],
      "metadata": {
        "id": "rQR4YsQIuKkp"
      },
      "execution_count": null,
      "outputs": []
    },
    {
      "cell_type": "markdown",
      "source": [
        "Comme dans la partie I, les observations ponctuelles sont les seules parties de la cible disponibles au cours de l'entraînement. Mais, comme expliqué au-dessus, ces observations ponctuelles seront aussi disponibles en phase d'inférence. Comme elles contiennent une information essentielle, il va donc s'agir d'entraîner le réseau à les exploiter à la fois comme cibles et comme entrées.\n",
        "\n",
        "\n",
        "**NB:** De même que dans la partie I, dans le deuxième tenseur les valeurs manquantes sont codées par -1 et toutes les autres valeurs sont positives ou nulles."
      ],
      "metadata": {
        "id": "q0HUIlGBucBl"
      }
    },
    {
      "cell_type": "markdown",
      "source": [
        "**Q1** Dans un premier temps, entraîner un UNet **en n'utilisant que le premier tenseur (\"input\") en entrée**. Toutes les observations ponctuelles disponibles peuvent être utilisées dans la cible.\n",
        "Les autres consignes sont :\n",
        "- Choisir la fonction de coût de manière à estimer la **moyenne conditionnelle à l'entrée**.\n",
        "- Pour la phase de validation, évaluer l'écart entre la cible complète et les outputs de la phase d'entraînement (comme dans la partie I).\n",
        "- Utiliser les hyperparamètres ci-dessous:"
      ],
      "metadata": {
        "id": "wVaIW5lhvo40"
      }
    },
    {
      "cell_type": "code",
      "source": [
        "import torch.optim as optim\n",
        "fcn = UNet(1,1,16)\n",
        "nepochs = 15\n",
        "nbatches = 100\n",
        "batchsize = 64\n",
        "p = 0.01"
      ],
      "metadata": {
        "id": "aP_AuBdG-Dji"
      },
      "execution_count": null,
      "outputs": []
    },
    {
      "cell_type": "code",
      "source": [
        "scores_1  = []\n",
        "\n",
        "..."
      ],
      "metadata": {
        "id": "YqSjwzXoF16Z"
      },
      "execution_count": null,
      "outputs": []
    },
    {
      "cell_type": "markdown",
      "source": [
        "**Q2** Pourquoi les performances stagnent-elles ? Visualiser quelques outputs et vérifier que le réseau restitue simplement le champ d'entrée. Expliquer pourquoi, intuitivement."
      ],
      "metadata": {
        "id": "QxDYZdmmot7R"
      }
    },
    {
      "cell_type": "code",
      "source": [
        "fcn.eval()\n",
        "input,  target, fulltarget  = gen2(6, p)\n",
        "\n",
        "..."
      ],
      "metadata": {
        "id": "-vql7hgQt94P"
      },
      "execution_count": null,
      "outputs": []
    },
    {
      "cell_type": "markdown",
      "source": [
        "On cherche maintenant à utiliser une partie des observations ponctuelles comme prédicteurs.\\\n",
        "Une idée simple consiste à définir un deuxième tenseur d'entrée ne comptant (environ) qu'une observation ponctuelle sur deux. Les autres observations ponctuelles sont quant elles utilisées comme cible.\n",
        "\n",
        "**Q3** Mettre en oeuvre cette idée.\n",
        "\n",
        "**Remarques:**\n",
        "- La fonction *torch.bernoulli* permet de masquer environ 50% des valeurs d'un tenseur...\n",
        "- Attention à la mutabilité des tenseurs pytorch."
      ],
      "metadata": {
        "id": "Cnh1iKU4xFp0"
      }
    },
    {
      "cell_type": "code",
      "source": [
        "..."
      ],
      "metadata": {
        "id": "LKD6TlAPuGD3"
      },
      "execution_count": null,
      "outputs": []
    },
    {
      "cell_type": "markdown",
      "source": [
        "**Q4** Procéder à un apprentissage sur dix époques, comparer la courbe d'apprentissage obtenue avec la précédente et expliquer."
      ],
      "metadata": {
        "id": "1ID866RQyGBi"
      }
    },
    {
      "cell_type": "code",
      "source": [
        "nepochs = 15\n",
        "fcn = UNet(2,1,16).cuda()\n",
        "\n",
        "..."
      ],
      "metadata": {
        "id": "oq_MwFN58B9c"
      },
      "execution_count": null,
      "outputs": []
    },
    {
      "cell_type": "code",
      "source": [
        "scores_2  = []\n",
        "\n",
        "..."
      ],
      "metadata": {
        "id": "NQWF3KK8yNS2"
      },
      "execution_count": null,
      "outputs": []
    },
    {
      "cell_type": "code",
      "source": [],
      "metadata": {
        "id": "QnDTLbLHG8pR"
      },
      "execution_count": null,
      "outputs": []
    },
    {
      "cell_type": "markdown",
      "source": [
        "**Q5** Visualiser des batches d'outputs. Dans quelle mesure le réseau parvient-il à lever l'ambiguïté sur le type de cellule en présence ?"
      ],
      "metadata": {
        "id": "VvZlVd4a-XC0"
      }
    },
    {
      "cell_type": "code",
      "source": [
        "fcn.eval()\n",
        "input,  target, fulltarget  = gen2(6, p = 0.005)\n",
        "\n",
        "# prédicteur spatialisé\n",
        "fig0 = plt.figure(0, figsize=(36, 6))\n",
        "voir_batch2D(input, 6, fig0, k=0, min_scale=0,max_scale=1)\n",
        "\n",
        "# obs ponctuelles et cible complète\n",
        "fig1 = plt.figure(1, figsize=(36, 6))\n",
        "voir_batch2D((target>=0) + fulltarget, 6, fig1, k=0, min_scale=0.,max_scale=1)\n",
        "\n",
        "output = ...\n",
        "\n",
        "..."
      ],
      "metadata": {
        "id": "iMfpdk3w-CUL"
      },
      "execution_count": null,
      "outputs": []
    },
    {
      "cell_type": "markdown",
      "source": [
        "**Q6** Au cours d'un apprentissage, nous avons utilisé (environ) la moitié des observations ponctuelles à disposition. Quel peut être le défaut de cette approche ? Jouer sur la valeur de *p* pour illustrer votre propos."
      ],
      "metadata": {
        "id": "uKO6bebuySnt"
      }
    },
    {
      "cell_type": "markdown",
      "source": [
        "**Q7** Pour prédire la valeur d'un pixel, un FCN permet de prendre en compte le contexte, c'est à dire l'information contenue dans un large voisinage autour du pixel d'intérêt.\\\n",
        "Cette qualité était-elle nécessaire pour traiter la **partie I** du problème ? Etait-elle nécessaire pour traiter la **partie II** ? Justifier dans les deux cas."
      ],
      "metadata": {
        "id": "bXflqd_j-CzK"
      }
    }
  ],
  "metadata": {
    "colab": {
      "provenance": [],
      "gpuType": "V100"
    },
    "kernelspec": {
      "display_name": "Python 3",
      "name": "python3"
    },
    "accelerator": "GPU"
  },
  "nbformat": 4,
  "nbformat_minor": 0
}