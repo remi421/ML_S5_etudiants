{
  "cells": [
    {
      "cell_type": "markdown",
      "source": [
        "#Introduction:\n",
        "\n"
      ],
      "metadata": {
        "id": "-1ciEeyNevrd"
      }
    },
    {
      "cell_type": "markdown",
      "source": [
        "Ce BE dure 3h environ. Il se termine à 17h. L'énoncé est réparti dans deux notebooks différents.\n",
        "\n",
        "Les parties 1 et 2 du problème 1 touchent à des applications simples d'un FCN (UNet). Le problème 2 consiste en l'implémententation d'un VIsual Transformer rudimentaire sur un problème de denoising.\n",
        "A priori, le problème 1 sera noté sur 10 pts et le problème 2 sur 10 points.\n",
        "\n",
        "\n",
        "\n"
      ],
      "metadata": {
        "id": "OT0xziCP4aFE"
      }
    },
    {
      "cell_type": "markdown",
      "source": [
        "**Consignes générales:**\n",
        "\n"
      ],
      "metadata": {
        "id": "173aQ6CQ4W10"
      }
    },
    {
      "cell_type": "markdown",
      "source": [
        "- Vous pouvez utiliser internet et chatGPT. Mais il est évidemment interdit de communiquer des réponses aux autres étudiants.\n",
        "- Vous pouvez rédiger vos réponses en anglais ou en français, au choix.\n",
        "- La qualité et la pertinence de vos réponses, la clarté du code, compteront davantage que le code lui-même.\n",
        "- Commitez régulièrement vos calepins en cours d'édition. Il ne faudrait pas tout perdre à cause d'un pc qui plante.\n",
        "- Par sécurité, quand vous avez terminé un notebook, télécharger-le et **envoyez-le par mail** à l'adresse *tpdeeplearning@gmail.com* en précisant vos **nom et prénom** dans le mail."
      ],
      "metadata": {
        "id": "T_wEg5jJ9qJF"
      }
    },
    {
      "cell_type": "markdown",
      "source": [
        "Bon courage !"
      ],
      "metadata": {
        "id": "cd3BzCGp_gik"
      }
    }
  ],
  "metadata": {
    "colab": {
      "provenance": []
    },
    "gpuClass": "standard",
    "kernelspec": {
      "display_name": "Python 3",
      "name": "python3"
    }
  },
  "nbformat": 4,
  "nbformat_minor": 0
}