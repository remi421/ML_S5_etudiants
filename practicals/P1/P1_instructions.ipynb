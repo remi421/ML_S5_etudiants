{
  "cells": [
    {
      "cell_type": "markdown",
      "id": "b1e4b37a",
      "metadata": {
        "id": "b1e4b37a"
      },
      "source": [
        "# **Practical session n°1**\n",
        "\n",
        "Notions:\n",
        "- Learning a perceptron through stochastic gradient descent.\n",
        "- Multi-layer perceptron.\n",
        "- Cost function adapted to classification tasks.\n",
        "\n",
        "Duration: 2 h\n",
        "\n",
        "This practical introduces neural networks through a presentation of the perceptron. It is also an opportunity to familiarize yourself with PyTorch commands. PyTorch is one of the three most widely used libraries for deep learning, along with Keras and TensorFlow (Keras is built on top of Tensorflow).\n",
        "\n",
        "\"Deep learning\" is, by definition, the learning of \"deep\" neural networks through stochastic gradient descent. By \"deep,\" we mean networks composed of a succession of \"layers\" of neurons.\n",
        "\n",
        "The basic building blocks that allow us to construct these layers are coded in the torch.nn module."
      ]
    },
    {
      "cell_type": "code",
      "execution_count": 1,
      "id": "b88495c8",
      "metadata": {
        "id": "b88495c8",
        "outputId": "c68307be-753e-4d05-b0d2-420eefda55ba",
        "colab": {
          "base_uri": "https://localhost:8080/"
        }
      },
      "outputs": [
        {
          "output_type": "execute_result",
          "data": {
            "text/plain": [
              "<torch._C.Generator at 0x79023015cf90>"
            ]
          },
          "metadata": {},
          "execution_count": 1
        }
      ],
      "source": [
        "from matplotlib import pyplot as plt\n",
        "import numpy as np\n",
        "import torch\n",
        "import torch.nn as nn\n",
        "torch.manual_seed(1)"
      ]
    },
    {
      "cell_type": "markdown",
      "id": "1b0dcd41",
      "metadata": {
        "id": "1b0dcd41"
      },
      "source": [
        "## **1. A simple binary classification problem**\n",
        "\n",
        "First, let's revisit the perceptron. To introduce learning through stochastic gradient descent, we will address a simple binary classification problem."
      ]
    },
    {
      "cell_type": "code",
      "execution_count": 18,
      "id": "b72725a8",
      "metadata": {
        "id": "b72725a8",
        "outputId": "df1823fc-141c-4db1-ce87-ecd914e3b671",
        "colab": {
          "base_uri": "https://localhost:8080/",
          "height": 452
        }
      },
      "outputs": [
        {
          "output_type": "display_data",
          "data": {
            "text/plain": [
              "<Figure size 640x480 with 1 Axes>"
            ],
            "image/png": "[encoded data removed]"
          },
          "metadata": {}
        }
      ],
      "source": [
        "def BinaryClassProblem(n=100, std=0.5, manual_seed=1):\n",
        "  torch.manual_seed(manual_seed)\n",
        "  # Data to separate:\n",
        "  n = 100\n",
        "  std = 0.5\n",
        "\n",
        "  # Sample 1:\n",
        "  mean0 = torch.tensor([-1., -1.])\n",
        "  ech0 = mean0 + std * torch.randn(n, 2)\n",
        "\n",
        "  # Sample 2:\n",
        "  mean1 = torch.tensor([1., 1.])\n",
        "  ech1 = mean1 + std * torch.randn(n, 2)\n",
        "\n",
        "  echs = [ech0, ech1]\n",
        "\n",
        "  # Scatter plot:\n",
        "  fig, ax = plt.subplots()\n",
        "  ax.axis([-3, 3, -3, 3])\n",
        "\n",
        "  plt.title('data')\n",
        "  colors = ['b', 'r']\n",
        "  labels = ['class 0', 'class 1']\n",
        "\n",
        "  for i, ech in enumerate(echs):\n",
        "      x, y = ech.numpy()[:, 0], ech.numpy()[:, 1]\n",
        "      ax.scatter(x, y, color=colors[i])\n",
        "\n",
        "  plt.legend(labels)\n",
        "  return echs, ax\n",
        "\n",
        "echs, ax = BinaryClassProblem(n=100)"
      ]
    },
    {
      "cell_type": "markdown",
      "source": [
        "## **2. A simple perceptron**"
      ],
      "metadata": {
        "id": "FFlMZsEWCxvZ"
      },
      "id": "FFlMZsEWCxvZ"
    },
    {
      "cell_type": "markdown",
      "id": "43354804",
      "metadata": {
        "id": "43354804"
      },
      "source": [
        "A simple perceptron (single neuron) consists of two parts: a linear part containing a dot product and a \"bias\" (b) and a non-linear part, the activation function (A):\n",
        "\\begin{equation*}\n",
        " f(x; \\omega,b) = \\mathcal{A}({\\sum} \\omega_i x_i  + b )  \\tag{1}\n",
        "\\end{equation*}\n",
        "\n",
        "The class P1 below codes for perceptrons defined on $\\mathbb{R}^2$ and whose activation function is a sigmoid:\n",
        "\\begin{equation*}\n",
        "\\mathcal{A}(y) = \\dfrac{1}{1+e^{-y}}\n",
        "\\end{equation*}\n",
        "The sigmoid function is in the range [0, 1]. Therefore, the neuron's output can be interpreted as the probability of belonging to the first of the two classes. In the P1 class, the neuron actually returns a vector of \"probabilities\":"
      ]
    },
    {
      "cell_type": "code",
      "execution_count": 19,
      "id": "f8986f9b",
      "metadata": {
        "id": "f8986f9b"
      },
      "outputs": [],
      "source": [
        "class P1(nn.Module):\n",
        "\n",
        "    def __init__(self):\n",
        "        super(P1, self).__init__()\n",
        "        self.fc = nn.Linear(2, 1)\n",
        "\n",
        "    def forward(self, x):\n",
        "        # Dot product and bias\n",
        "        x = self.fc(x)\n",
        "        # Activation\n",
        "        x = x.sigmoid()\n",
        "        # Vector of \"probabilities\" (cat: concatenation)\n",
        "        x = torch.cat((x, 1 - x), dim=1)\n",
        "        return x\n"
      ]
    },
    {
      "cell_type": "markdown",
      "id": "4ca91dfe",
      "metadata": {
        "id": "4ca91dfe"
      },
      "source": [
        "In the next cell, basic commands are given to :\n",
        "- define an instance of P1\n",
        "- apply it on a 2D torch.tensor\n",
        "- access the weights (or \"parameters\") of model"
      ]
    },
    {
      "cell_type": "code",
      "execution_count": 20,
      "id": "1dd27f40",
      "metadata": {
        "id": "1dd27f40",
        "outputId": "cdf92554-b0f3-4629-9bd7-ba75dc7adb53",
        "colab": {
          "base_uri": "https://localhost:8080/"
        }
      },
      "outputs": [
        {
          "output_type": "stream",
          "name": "stdout",
          "text": [
            "example of output: tensor([[0.6126, 0.3874]], grad_fn=<CatBackward0>)\n",
            "weights: tensor([-0.1000,  0.5000])\n",
            "bias: tensor([-1.])\n"
          ]
        }
      ],
      "source": [
        "model = P1()\n",
        "\n",
        "# Apply model on a 2D tensor:\n",
        "inputs = torch.tensor([[0.,1.]])\n",
        "print(f'example of output: {model(inputs)}')\n",
        "\n",
        "# Setting weights:\n",
        "model.fc.weight[0, 0].data.fill_(-0.1)\n",
        "model.fc.weight[0, 1].data.fill_(0.5)\n",
        "model.fc.bias.data.fill_(-1)\n",
        "\n",
        "# Retrieving weights:\n",
        "fc = model.fc\n",
        "weights = fc.weight.data.squeeze(dim=0)\n",
        "bias = fc.bias.data\n",
        "\n",
        "print(f'weights: {weights}')\n",
        "print(f'bias: {bias}')"
      ]
    },
    {
      "cell_type": "markdown",
      "id": "417aad92",
      "metadata": {
        "id": "417aad92"
      },
      "source": [
        "**Exercise 1**:\n",
        "- For the given set of parameters (-0.1, 0.5, and -1), find an input that produces an output of (0.5, 0.5). Verify it in a single line of code.\n",
        "- For the given input, find parameters that will produce an output of (0.5, 0.5). Verify it in a single line of code.  \n"
      ]
    },
    {
      "cell_type": "code",
      "execution_count": 14,
      "id": "cf22a4d2",
      "metadata": {
        "deletable": false,
        "id": "cf22a4d2",
        "nbgrader": {
          "cell_type": "code",
          "checksum": "5f61797496e6ebc3f98ba5ea49e10e07",
          "grade": false,
          "grade_id": "exercise-1",
          "locked": false,
          "schema_version": 3,
          "solution": true,
          "task": false
        },
        "tags": [],
        "outputId": "46a3a40a-ab4f-495d-b0d4-cca4f6b2320e",
        "colab": {
          "base_uri": "https://localhost:8080/"
        }
      },
      "outputs": [
        {
          "output_type": "execute_result",
          "data": {
            "text/plain": [
              "tensor([[0.5000, 0.5000]], grad_fn=<CatBackward0>)"
            ]
          },
          "metadata": {},
          "execution_count": 14
        }
      ],
      "source": [
        "# YOUR CODE HERE\n",
        "inputs = torch.tensor([[-5.,1.]])\n",
        "model(inputs)\n",
        "\n",
        "inputs = torch.tensor([[0.,1.]])\n",
        "model.fc.weight[0,0].data.fill_(0.)\n",
        "model.fc.weight[0,1].data.fill_(0.)\n",
        "model.fc.bias.data.fill_(0)\n",
        "model(inputs)\n"
      ]
    },
    {
      "cell_type": "markdown",
      "id": "70518cbf",
      "metadata": {
        "id": "70518cbf"
      },
      "source": [
        "To complete the definition of the perceptron, a decision rule is needed. This rule is natural: for $f(x; \\omega, b) = (p_0, p_1)$, we choose class 0 if $p_0 > p_1$."
      ]
    },
    {
      "cell_type": "markdown",
      "source": [
        "**Exercise 2:**\n",
        "When the input space is 2D or 3D, the boundary that delimits the model's decision regions could be drawn. Complete the code below to plot it."
      ],
      "metadata": {
        "id": "y7Okk0afzYQ9"
      },
      "id": "y7Okk0afzYQ9"
    },
    {
      "cell_type": "code",
      "execution_count": 21,
      "id": "6c2446c6",
      "metadata": {
        "deletable": false,
        "id": "6c2446c6",
        "nbgrader": {
          "cell_type": "code",
          "checksum": "7f1ca095ac2551b73a3153c32ea2ff07",
          "grade": false,
          "grade_id": "exercise-2",
          "locked": false,
          "schema_version": 3,
          "solution": true,
          "task": false
        },
        "tags": [],
        "outputId": "29121e98-6dc6-461c-a4ed-107737af0391",
        "colab": {
          "base_uri": "https://localhost:8080/",
          "height": 452
        }
      },
      "outputs": [
        {
          "output_type": "display_data",
          "data": {
            "text/plain": [
              "<Figure size 640x480 with 1 Axes>"
            ],
            "image/png": "[encoded data removed]"
          },
          "metadata": {}
        }
      ],
      "source": [
        "def drawDecisionBoundary(model, ax, interval=[-10, 10], color='black'):\n",
        "    x0 = np.arange(interval[0], interval[1], 0.01)\n",
        "    # YOUR CODE HERE\n",
        "    fc = model.fc\n",
        "    weights = fc.weight.data.squeeze(dim=0)\n",
        "    bias = fc.bias.data\n",
        "    x1 = -(weights[0]*x0 + bias)/weights[1]\n",
        "    ax.plot(x0, x1, color=color)\n",
        "\n",
        "\n",
        "echs, ax = BinaryClassProblem()\n",
        "drawDecisionBoundary(model, ax)\n",
        "plt.show()\n"
      ]
    },
    {
      "cell_type": "markdown",
      "source": [
        "## **3. Dataset and Dataloader**"
      ],
      "metadata": {
        "id": "RNSM_P4_CONZ"
      },
      "id": "RNSM_P4_CONZ"
    },
    {
      "cell_type": "markdown",
      "id": "b81542b9",
      "metadata": {
        "id": "b81542b9"
      },
      "source": [
        "To train the perceptron to correctly separate the classes, we will use stochastic gradient descent with mini-batches. For this, we need to present the model with (*input*, *target*) pairs in a **random** order. In PyTorch, this selection is done using two objects:\n",
        "- A *Dataset* class\n",
        "- A *Dataloader* class"
      ]
    },
    {
      "cell_type": "markdown",
      "id": "923d8715",
      "metadata": {
        "id": "923d8715"
      },
      "source": [
        "A PyTorch **Dataset** contains a method for accessing data. The following class provides a rudimentary example. Later on, we will integrate data loading, normalization, and data augmentation steps into our datasets:"
      ]
    },
    {
      "cell_type": "code",
      "execution_count": 23,
      "id": "00f26701",
      "metadata": {
        "id": "00f26701"
      },
      "outputs": [],
      "source": [
        "from torch.utils.data import Dataset, DataLoader\n",
        "class FirstDataset(Dataset):\n",
        "    def __init__(self, inputs, targets):\n",
        "        self.inputs = inputs\n",
        "        self.targets = targets\n",
        "\n",
        "    def __len__(self):\n",
        "        return self.targets.shape[0]\n",
        "\n",
        "    def __getitem__(self, idx):  # idx is an index called by the loader\n",
        "        x = self.inputs[idx, :]\n",
        "        t = self.targets[idx]\n",
        "        return x, t  # (input, target) pair\n",
        "n=100\n",
        "inputs_train = torch.cat(echs, dim=0)\n",
        "targets_train = torch.cat((torch.zeros(n), torch.ones(n)), dim=0).long()\n",
        "ds1 = FirstDataset(inputs_train, targets_train)"
      ]
    },
    {
      "cell_type": "markdown",
      "id": "96e95810",
      "metadata": {
        "id": "96e95810"
      },
      "source": [
        "A **loader** is a Python iterable (like lists, dictionaries, etc.) that we parameterize by batch size and data selection method (with or without replacement, weighting, etc). In particular, with the *shuffle=True* option, the data is reshuffled at every epoch.\n",
        "\n",
        "The option *num_workers* represents how many subprocesses to use for data loading, 0 means that the data will be loaded in the main process (generally interesting to anticipate data loading, to speed up training)."
      ]
    },
    {
      "cell_type": "code",
      "execution_count": 24,
      "id": "6fee1e46",
      "metadata": {
        "id": "6fee1e46"
      },
      "outputs": [],
      "source": [
        "loader1 = DataLoader(ds1, batch_size=10, shuffle=True, num_workers=0)"
      ]
    },
    {
      "cell_type": "markdown",
      "id": "14640f6a",
      "metadata": {
        "id": "14640f6a"
      },
      "source": [
        "In the following figure, we represent a first randomly drawn batch of points. Each time the window is executed, a new batch of points is drawn until exhaustion:"
      ]
    },
    {
      "cell_type": "code",
      "execution_count": 26,
      "id": "ebbf4375",
      "metadata": {
        "id": "ebbf4375",
        "outputId": "3c03dc39-3b5b-4005-8466-a31ca17e6500",
        "colab": {
          "base_uri": "https://localhost:8080/",
          "height": 452
        }
      },
      "outputs": [
        {
          "output_type": "execute_result",
          "data": {
            "text/plain": [
              "<matplotlib.collections.PathCollection at 0x7901597e2560>"
            ]
          },
          "metadata": {},
          "execution_count": 26
        },
        {
          "output_type": "display_data",
          "data": {
            "text/plain": [
              "<Figure size 640x480 with 1 Axes>"
            ],
            "image/png": "[encoded data removed]"
          },
          "metadata": {}
        }
      ],
      "source": [
        "fig2 = plt.figure()\n",
        "ax2 = fig2.add_subplot(111)\n",
        "ax2.axis([-3, 3, -3, 3])\n",
        "\n",
        "# Drawing a batch of ten points\n",
        "inputs, targets = next(iter(loader1))\n",
        "x, y = inputs.numpy()[:, 0], inputs.numpy()[:, 1]\n",
        "colors = [\"red\",\"blue\"]\n",
        "cs = [colors[targets[i]] for i in range(len(targets))]\n",
        "ax2.scatter(x, y, color=cs)"
      ]
    },
    {
      "cell_type": "code",
      "execution_count": 35,
      "id": "5e3051a2",
      "metadata": {
        "id": "5e3051a2",
        "outputId": "fa9c223c-9c36-4b6e-c3eb-f2f77039ba24",
        "colab": {
          "base_uri": "https://localhost:8080/",
          "height": 435
        }
      },
      "outputs": [
        {
          "output_type": "execute_result",
          "data": {
            "text/plain": [
              "<Figure size 640x480 with 1 Axes>"
            ],
            "image/png": "[encoded data removed]"
          },
          "metadata": {},
          "execution_count": 35
        }
      ],
      "source": [
        "# Iterating over the dataset\n",
        "inputs, targets = next(iter(loader1))\n",
        "x, y = inputs.numpy()[:, 0], inputs.numpy()[:, 1]\n",
        "cs = [colors[targets[i]] for i in range(len(targets))]\n",
        "ax2.scatter(x, y, color=cs)\n",
        "fig2"
      ]
    },
    {
      "cell_type": "markdown",
      "source": [
        "## **4. A Loss function for Classification. Updating the weights.**"
      ],
      "metadata": {
        "id": "S0p6Oca9DIIR"
      },
      "id": "S0p6Oca9DIIR"
    },
    {
      "cell_type": "markdown",
      "id": "4a2dcbbb",
      "metadata": {
        "id": "4a2dcbbb"
      },
      "source": [
        "For each available batch, we calculate the model's error using a loss function. This loss function penalizes the differences between the network's outputs (here, pairs $(p_0, p_1)$) and the ground truth (here, a class $c \\in \\{ 0 ; 1 \\}$).\n",
        "\n",
        "In classification, we generally use the negative log likelihood. For a batch point, it is defined as:\n",
        "\n",
        "$\\mathcal{L}((p_0, p_1), c) = - ln(p_c)$\n",
        "\n",
        "This quantity is averaged over each batch:"
      ]
    },
    {
      "cell_type": "code",
      "execution_count": 36,
      "id": "3f24c290",
      "metadata": {
        "id": "3f24c290"
      },
      "outputs": [],
      "source": [
        "def loss_fn(outputs, targets, show=False):\n",
        "    # all -log(p)\n",
        "    outputs = -torch.log(outputs)\n",
        "    # all -log(pc)\n",
        "    tensor_of_losses = torch.gather(outputs, 1, targets.unsqueeze(dim=1))\n",
        "    # average of -log(pc)\n",
        "    loss = tensor_of_losses.mean()\n",
        "\n",
        "    if show:\n",
        "        print(outputs)\n",
        "        print(targets)\n",
        "        print(tensor_of_losses)\n",
        "\n",
        "    return loss"
      ]
    },
    {
      "cell_type": "markdown",
      "id": "6d7ca365",
      "metadata": {
        "id": "6d7ca365"
      },
      "source": [
        "Example:"
      ]
    },
    {
      "cell_type": "code",
      "execution_count": 37,
      "id": "2b7a632e",
      "metadata": {
        "id": "2b7a632e",
        "outputId": "754a75f0-e6b1-454c-a2bd-21961294934b",
        "colab": {
          "base_uri": "https://localhost:8080/"
        }
      },
      "outputs": [
        {
          "output_type": "stream",
          "name": "stdout",
          "text": [
            "tensor([[1.1350, 0.3878],\n",
            "        [1.6192, 0.2207],\n",
            "        [1.8251, 0.1758],\n",
            "        [1.6803, 0.2062],\n",
            "        [1.4257, 0.2749],\n",
            "        [0.7914, 0.6037],\n",
            "        [1.5529, 0.2378],\n",
            "        [1.5539, 0.2375],\n",
            "        [1.0929, 0.4083],\n",
            "        [0.9195, 0.5087]], grad_fn=<NegBackward0>)\n",
            "tensor([1, 0, 0, 0, 0, 1, 0, 0, 1, 1])\n",
            "tensor([[0.3878],\n",
            "        [1.6192],\n",
            "        [1.8251],\n",
            "        [1.6803],\n",
            "        [1.4257],\n",
            "        [0.6037],\n",
            "        [1.5529],\n",
            "        [1.5539],\n",
            "        [0.4083],\n",
            "        [0.5087]], grad_fn=<GatherBackward0>)\n",
            "tensor(1.1566, grad_fn=<MeanBackward0>)\n"
          ]
        }
      ],
      "source": [
        "inputs, targets = next(iter(loader1))\n",
        "outputs = model(inputs)\n",
        "l = loss_fn(outputs, targets, show=True)\n",
        "\n",
        "print(l)"
      ]
    },
    {
      "cell_type": "markdown",
      "id": "409c9f11",
      "metadata": {
        "id": "409c9f11"
      },
      "source": [
        "For each batch, we calculate the derivatives $\\dfrac{\\partial \\mathcal{L_{batch}}}{\\partial{\\omega_i}}$ where $\\mathcal{L_{batch}}$ is the average of the cost function over the batch.\n",
        "\n",
        "PyTorch keeps track of each operation performed with the weights so that it can apply the usual rules of derivation. This calculation is launched with the *backward* method. The derivatives are stored with the weights and can be accessed with *.grad*:"
      ]
    },
    {
      "cell_type": "code",
      "execution_count": 38,
      "id": "021822c0",
      "metadata": {
        "id": "021822c0",
        "outputId": "902772e4-823e-4caf-a109-143a7e0b3aae",
        "colab": {
          "base_uri": "https://localhost:8080/"
        }
      },
      "outputs": [
        {
          "output_type": "stream",
          "name": "stdout",
          "text": [
            "before backward:None\n",
            "after backward:tensor([[0.5347, 0.6374]])\n"
          ]
        }
      ],
      "source": [
        "w = model.fc.weight  # [0,0]\n",
        "print('before backward:' + str(w.grad))\n",
        "\n",
        "l.backward()\n",
        "print('after backward:' + str(w.grad))"
      ]
    },
    {
      "cell_type": "markdown",
      "id": "85922688",
      "metadata": {
        "id": "85922688"
      },
      "source": [
        "Last step: updating the weights. For this, many methods are available. We specify the chosen method through the PyTorch \"optimizer\" object. The simplest is written:\n",
        "\n",
        "$w_i := w_i - lr \\times \\dfrac{\\partial \\mathcal{L_{batch}}}{\\partial{\\omega_i}}$  (2)\n",
        "\n",
        "The learning rate ($lr$) controls the amplitude of the increments:"
      ]
    },
    {
      "cell_type": "code",
      "execution_count": 39,
      "id": "b612c9d9",
      "metadata": {
        "id": "b612c9d9"
      },
      "outputs": [],
      "source": [
        "lr = 0.1\n",
        "# Two commonly used descent methods:\n",
        "optimizer = torch.optim.SGD(model.parameters(), lr=lr)  # corresponds to equation (2)\n",
        "# optimizer = torch.optim.Adam(model.parameters(), lr=lr)"
      ]
    },
    {
      "cell_type": "markdown",
      "id": "cf9a65cc",
      "metadata": {
        "id": "cf9a65cc"
      },
      "source": [
        "In the next cell, we train the perceptron. With each new execution, the dataset is traversed twice (two \"epochs\"):"
      ]
    },
    {
      "cell_type": "code",
      "execution_count": 41,
      "id": "5756d65f",
      "metadata": {
        "id": "5756d65f",
        "outputId": "f06c6d89-e3bc-446f-c8d5-43e7355a1ac4",
        "colab": {
          "base_uri": "https://localhost:8080/",
          "height": 1000
        }
      },
      "outputs": [
        {
          "output_type": "stream",
          "name": "stdout",
          "text": [
            "0\n",
            "1\n",
            "2\n",
            "3\n",
            "4\n",
            "5\n",
            "6\n",
            "7\n",
            "8\n",
            "9\n",
            "10\n",
            "11\n",
            "12\n",
            "13\n",
            "14\n",
            "15\n",
            "16\n",
            "17\n",
            "18\n",
            "19\n",
            "20\n",
            "21\n",
            "22\n",
            "23\n",
            "24\n",
            "25\n",
            "26\n",
            "27\n",
            "28\n",
            "29\n",
            "30\n",
            "31\n",
            "32\n",
            "33\n",
            "34\n",
            "35\n",
            "36\n",
            "37\n",
            "38\n",
            "39\n",
            "40\n",
            "41\n",
            "42\n",
            "43\n",
            "44\n",
            "45\n",
            "46\n",
            "47\n",
            "48\n",
            "49\n"
          ]
        },
        {
          "output_type": "display_data",
          "data": {
            "text/plain": [
              "<Figure size 640x480 with 1 Axes>"
            ],
            "image/png": "[encoded data removed]"
          },
          "metadata": {}
        }
      ],
      "source": [
        "_, ax = BinaryClassProblem()\n",
        "\n",
        "for epoch in range(50):\n",
        "    print(epoch)\n",
        "    # random traversal of the dataset\n",
        "    for x, targets in loader1:\n",
        "        # zeroing gradients\n",
        "        optimizer.zero_grad()\n",
        "        # calculation of (p0, p1)\n",
        "        output = model(x)\n",
        "        # calculation of the error\n",
        "        l = loss_fn(output, targets)\n",
        "        # calculation of gradients\n",
        "        l.backward()\n",
        "        # weight update\n",
        "        optimizer.step()\n",
        "\n",
        "    # Plotting the hyperplane\n",
        "    drawDecisionBoundary(model, ax)"
      ]
    },
    {
      "cell_type": "markdown",
      "id": "3f458025",
      "metadata": {
        "id": "3f458025"
      },
      "source": [
        "**Exercise 3**: Complete the following code to plot the gradients in the $\\omega_0, \\omega_1$ weight space:"
      ]
    },
    {
      "cell_type": "code",
      "execution_count": null,
      "id": "c7c3b29e",
      "metadata": {
        "deletable": false,
        "id": "c7c3b29e",
        "nbgrader": {
          "cell_type": "code",
          "checksum": "1ee62aef14a34c3e87c4ddd0f5a6d03d",
          "grade": false,
          "grade_id": "exercise-3-1",
          "locked": false,
          "schema_version": 3,
          "solution": true,
          "task": false
        },
        "tags": []
      },
      "outputs": [],
      "source": [
        "# Initialization of weights:\n",
        "model.fc.weight[0, 0].data.fill_(-0.1)\n",
        "model.fc.weight[0, 1].data.fill_(0.5)\n",
        "model.fc.bias.data.fill_(-1)\n",
        "\n",
        "fig3 = plt.figure()\n",
        "ax3 = fig3.add_subplot(111)\n",
        "ax3.axis([-1.5, 0, -1, 0.6])\n",
        "\n",
        "loader1 = DataLoader(ds1, batch_size=10, shuffle=True)\n",
        "lr = 0.5\n",
        "optimizer = torch.optim.SGD(model.parameters(), lr=lr)\n",
        "\n",
        "for epoch in range(25):\n",
        "    for x, label in loader1:\n",
        "        optimizer.zero_grad()\n",
        "        output = model(x)\n",
        "        l = loss_fn(output, label)\n",
        "        l.backward()\n",
        "\n",
        "        # plotting vectors:\n",
        "        # weights = ...\n",
        "        # YOUR CODE HERE\n",
        "\n",
        "        # gradients:\n",
        "        # gradient = ...\n",
        "\n",
        "        # ax3.scatter(...)\n",
        "        # ax3.arrow(...)\n",
        "\n",
        "        optimizer.step()"
      ]
    },
    {
      "cell_type": "markdown",
      "source": [
        "## **5. Scoring a classification model with accuracy.**"
      ],
      "metadata": {
        "id": "YHLWlqaxFs2B"
      },
      "id": "YHLWlqaxFs2B"
    },
    {
      "cell_type": "markdown",
      "source": [
        "Scoring a model is an essential step. In the following exercise, we present a very simple score, accuracy, which consists of counting the proportion of correctly assigned classes. It is calculated on the training set and on an independent set, the **test set**."
      ],
      "metadata": {
        "id": "mJTpmfw5LJry"
      },
      "id": "mJTpmfw5LJry"
    },
    {
      "cell_type": "markdown",
      "id": "757b7141",
      "metadata": {
        "id": "757b7141"
      },
      "source": [
        "**Exercise 4:**\n",
        "- With the help of the torch.max function, determine the accuracy of the classifier on the **training set**.\n",
        "- Sample an independant **test set** and compute the accuracy on it."
      ]
    },
    {
      "cell_type": "code",
      "execution_count": 51,
      "id": "a9056a67",
      "metadata": {
        "deletable": false,
        "id": "a9056a67",
        "nbgrader": {
          "cell_type": "code",
          "checksum": "08db64521cb6ad3687ba520557dfa517",
          "grade": false,
          "grade_id": "exercise-3-2",
          "locked": false,
          "schema_version": 3,
          "solution": true,
          "task": false
        },
        "tags": [],
        "outputId": "a255859e-998c-4847-91c9-e31c4361d07e",
        "colab": {
          "base_uri": "https://localhost:8080/",
          "height": 799
        }
      },
      "outputs": [
        {
          "output_type": "stream",
          "name": "stdout",
          "text": [
            "tensor([0, 0, 0, 0, 0, 0, 0, 0, 0, 0, 0, 0, 0, 0, 0, 0, 0, 0, 0, 0, 0, 0, 0, 0,\n",
            "        0, 0, 0, 0, 0, 0, 0, 0, 0, 0, 0, 0, 0, 0, 0, 0, 0, 0, 0, 0, 0, 0, 0, 0,\n",
            "        0, 0, 0, 0, 0, 0, 0, 0, 0, 0, 0, 0, 0, 0, 0, 0, 0, 0, 0, 0, 0, 0, 0, 0,\n",
            "        0, 0, 0, 0, 0, 0, 0, 0, 0, 0, 0, 0, 0, 0, 0, 0, 0, 0, 0, 0, 0, 0, 0, 0,\n",
            "        0, 0, 0, 0, 1, 1, 1, 1, 1, 1, 1, 1, 1, 1, 1, 1, 1, 1, 1, 1, 1, 1, 1, 1,\n",
            "        1, 1, 1, 1, 1, 1, 1, 1, 1, 1, 1, 1, 1, 1, 1, 1, 1, 1, 1, 1, 1, 1, 1, 1,\n",
            "        1, 1, 1, 1, 1, 1, 1, 1, 1, 1, 1, 1, 1, 1, 1, 1, 1, 1, 1, 1, 1, 1, 1, 1,\n",
            "        1, 1, 1, 1, 1, 1, 1, 1, 1, 1, 1, 1, 1, 1, 1, 1, 1, 1, 1, 1, 1, 1, 1, 1,\n",
            "        1, 1, 1, 1, 1, 1, 1, 1])\n",
            "accuracy :100.0%\n",
            "tensor([0, 0, 0, 0, 0, 0, 0, 0, 0, 0, 0, 0, 0, 0, 0, 0, 0, 0, 0, 0, 0, 0, 0, 0,\n",
            "        0, 0, 0, 0, 0, 0, 0, 0, 0, 0, 0, 0, 0, 0, 0, 0, 0, 0, 0, 0, 0, 0, 0, 0,\n",
            "        0, 0, 0, 0, 0, 0, 0, 0, 0, 0, 0, 0, 0, 0, 0, 0, 0, 0, 0, 0, 0, 0, 0, 0,\n",
            "        0, 0, 0, 0, 0, 0, 0, 0, 0, 0, 0, 0, 0, 0, 0, 0, 0, 0, 0, 0, 0, 0, 0, 0,\n",
            "        0, 0, 0, 0, 1, 1, 1, 1, 1, 1, 1, 1, 1, 1, 1, 1, 1, 1, 1, 1, 1, 1, 1, 1,\n",
            "        1, 1, 1, 1, 1, 1, 1, 1, 1, 1, 1, 1, 1, 1, 1, 1, 1, 1, 1, 1, 1, 1, 1, 1,\n",
            "        1, 1, 1, 1, 1, 1, 1, 1, 1, 1, 1, 1, 1, 1, 1, 1, 1, 1, 1, 1, 1, 1, 1, 1,\n",
            "        1, 1, 1, 1, 1, 1, 1, 1, 1, 1, 1, 1, 1, 1, 1, 1, 1, 1, 1, 1, 1, 1, 1, 1,\n",
            "        1, 1, 1, 1, 1, 1, 1, 1])\n",
            "accuracy :100.0%\n"
          ]
        },
        {
          "output_type": "display_data",
          "data": {
            "text/plain": [
              "<Figure size 640x480 with 1 Axes>"
            ],
            "image/png": "[encoded data removed]"
          },
          "metadata": {}
        }
      ],
      "source": [
        "### YOUR CODE HERE\n",
        "#\n",
        "#\n",
        "output_train = model(inputs_train)\n",
        "predicted_classes = torch.max(output_train,1)[1]\n",
        "print(predicted_classes)\n",
        "#accuracy\n",
        "print(f'accuracy :{100*(predicted_classes == targets_train).sum()/targets_train.shape[0]}%')\n",
        "\n",
        "#test_set =\n",
        "\n",
        "echs, _ = BinaryClassProblem(n=100)\n",
        "inputs_test = torch.cat(echs, dim=0)\n",
        "targets_test = torch.cat((torch.zeros(n), torch.ones(n)), dim=0).long()\n",
        "\n",
        "output_test = model(inputs_test)\n",
        "predicted_classes = torch.max(output_test,1)[1]\n",
        "print(predicted_classes)\n",
        "#accuracy\n",
        "print(f'accuracy :{100*(predicted_classes == targets_test).sum()/targets_test.shape[0]}%')\n",
        "\n"
      ]
    },
    {
      "cell_type": "markdown",
      "id": "c9216817",
      "metadata": {
        "id": "c9216817"
      },
      "source": [
        "**Note:**\n",
        "\n",
        "A model of the class *P1* corresponds to a class of statistical models widely used with predictors of small dimensions: logistic regression.\n",
        "\n",
        "This model is used to **explain and predict** the value of a binary qualitative variable.\n",
        "\n",
        "Let Z be a random variable with values in $\\{c_1, c_2\\}$.\n",
        "Logistic regression with respect to the predictor $X = (X_1, X_2, ...)$ is written:\n",
        "\n",
        "$$ ℙ(Z = c_1 | X ) = \\sigma (\\sum \\omega_i X_i + b ) $$\n",
        "\n",
        "Where $\\sigma$ is the sigmoid function. However, in the context of logistic regression, the weights $\\omega_i$ are obtained by **maximum likelihood**.\n",
        "\n"
      ]
    },
    {
      "cell_type": "markdown",
      "source": [
        "## **I.6. A more complex binary classification problem**"
      ],
      "metadata": {
        "id": "CNeQuvuPJom6"
      },
      "id": "CNeQuvuPJom6"
    },
    {
      "cell_type": "code",
      "execution_count": null,
      "id": "0621505f",
      "metadata": {
        "id": "0621505f"
      },
      "outputs": [],
      "source": [
        "# The XOR problem\n",
        "\n",
        "n = 100\n",
        "std = 0.5\n",
        "# sample 0:\n",
        "meana = torch.tensor((-1., -1.))\n",
        "echa = meana + std * torch.randn(n, 2)\n",
        "meanb = torch.tensor((1., 1.))\n",
        "echb = meanb + std * torch.randn(n, 2)\n",
        "\n",
        "ech0 = torch.cat([echa, echb])\n",
        "\n",
        "# sample :\n",
        "meanc = torch.tensor((1., -1.))\n",
        "echc = meanc + std * torch.randn(n, 2)\n",
        "meand = torch.tensor((-1., 1.))\n",
        "echd = meand + std * torch.randn(n, 2)\n",
        "\n",
        "ech1 = torch.cat([echc, echd])\n",
        "\n",
        "echs2 = [ech0, ech1]\n",
        "\n",
        "# Scatter plot:\n",
        "\n",
        "plt.figure(0)\n",
        "plt.axis([-3, 3, -3, 3])\n",
        "\n",
        "plt.title('data')\n",
        "colors = ['b', 'r']\n",
        "labels = ['0', '1']\n",
        "\n",
        "for i, ech in enumerate(echs2):\n",
        "    x, y = ech.numpy()[:, 0], ech.numpy()[:, 1]\n",
        "    plt.scatter(x, y, color=colors[i])\n",
        "\n",
        "plt.legend(labels)"
      ]
    },
    {
      "cell_type": "markdown",
      "id": "97d2f4c8",
      "metadata": {
        "id": "97d2f4c8"
      },
      "source": [
        "**Exercise 5:**\n",
        "\n",
        "- What is the approximate best accuracy achievable with a model of class *P1*?\n",
        "\n",
        "- Complete the *P3* class and train a model to achieve an accuracy of at least 90% on the training set.\n",
        "\n",
        "- Why does the score after 50 epochs vary so much with each new training?\n",
        "\n",
        "- Is it possible, with another class of model, to achieve 100% accuracy?"
      ]
    },
    {
      "cell_type": "code",
      "execution_count": null,
      "id": "7d42117e",
      "metadata": {
        "deletable": false,
        "id": "7d42117e",
        "nbgrader": {
          "cell_type": "code",
          "checksum": "3bb7bc5459ad55cefff593dc6268083b",
          "grade": false,
          "grade_id": "exercise-4-1",
          "locked": false,
          "schema_version": 3,
          "solution": true,
          "task": false
        },
        "tags": []
      },
      "outputs": [],
      "source": [
        "class P3(nn.Module):\n",
        "\n",
        "    def __init__(self):\n",
        "        super(P3, self).__init__()\n",
        "        self.fc1 = nn.Linear(2, 2)  # first layer: 2 neurons\n",
        "        self.fc2 = nn.Linear(2, 1)  # second layer: 1 neuron\n",
        "\n",
        "    def forward(self, x):\n",
        "        x = self.fc1(x)\n",
        "        ### YOUR CODE HERE\n",
        "        #\n",
        "        #\n",
        "        x = torch.cat((x, 1 - x), dim=1)  # output of sum 1\n",
        "        return x"
      ]
    },
    {
      "cell_type": "code",
      "execution_count": null,
      "id": "e382771b",
      "metadata": {
        "deletable": false,
        "id": "e382771b",
        "nbgrader": {
          "cell_type": "code",
          "checksum": "7c55c5e939e35858bb4bcf76ce92104a",
          "grade": false,
          "grade_id": "exercise-4-2",
          "locked": false,
          "schema_version": 3,
          "solution": true,
          "task": false
        },
        "tags": []
      },
      "outputs": [],
      "source": [
        "# dataset\n",
        "### YOUR CODE HERE\n",
        "#\n",
        "#\n",
        "loader2 = DataLoader(ds2, batch_size=10, shuffle=True,num_workers=0)"
      ]
    },
    {
      "cell_type": "code",
      "execution_count": null,
      "id": "470a8232",
      "metadata": {
        "deletable": false,
        "id": "470a8232",
        "nbgrader": {
          "cell_type": "code",
          "checksum": "22064ec3571500c3c1960e0a6877849e",
          "grade": false,
          "grade_id": "exercise-4-3",
          "locked": false,
          "schema_version": 3,
          "solution": true,
          "task": false
        }
      },
      "outputs": [],
      "source": [
        "from tqdm import tqdm # Progess bar\n",
        "lr = 0.1\n",
        "model = P3()\n",
        "# Two commonly used descent methods:\n",
        "optimizer = torch.optim.SGD(model.parameters(), lr=lr)\n",
        "#optimizer = torch.optim.Adam(model.parameters(), lr=lr)\n",
        "\n",
        "for epoch in tqdm(range(100)):\n",
        "    for x, labels in loader2:\n",
        "        ### YOUR CODE HERE\n",
        "        #\n",
        "        #\n",
        "        #\n",
        "print(\"\\nTraining end\")\n",
        "# accuracy\n",
        "### YOUR CODE HERE\n",
        "#"
      ]
    },
    {
      "cell_type": "code",
      "execution_count": null,
      "id": "c5cdbad4",
      "metadata": {
        "deletable": false,
        "id": "c5cdbad4",
        "nbgrader": {
          "cell_type": "code",
          "checksum": "825a438ac87230317226ee974f5052a9",
          "grade": false,
          "grade_id": "exercise-4-4",
          "locked": false,
          "schema_version": 3,
          "solution": true,
          "task": false
        },
        "tags": []
      },
      "outputs": [],
      "source": [
        "class P9(nn.Module):\n",
        "\n",
        "    def __init__(self):\n",
        "        super(P9, self).__init__()\n",
        "        self.fc1 = nn.Linear(2,4) # a first layer with 4 neurons\n",
        "        self.fc2 = nn.Linear(4,4) # a second layer with 4 neurons\n",
        "        self.fc3 = nn.Linear(4,1) # a third layer with 1 neuron\n",
        "    ### YOUR CODE HERE\n",
        "    def forward(self, x):\n",
        "      ...\n",
        "    ### END SOLUTION"
      ]
    },
    {
      "cell_type": "code",
      "execution_count": null,
      "id": "e06efc4f",
      "metadata": {
        "deletable": false,
        "id": "e06efc4f",
        "nbgrader": {
          "cell_type": "code",
          "checksum": "f3b4448662a871a03ff6346959cb7ac1",
          "grade": false,
          "grade_id": "exercise-4-5",
          "locked": false,
          "schema_version": 3,
          "solution": true,
          "task": false
        },
        "tags": []
      },
      "outputs": [],
      "source": [
        "model = P9()\n",
        "### BEGIN SOLUTION\n",
        "...\n",
        "### END SOLUTION\n",
        "print(f\"Accuracy:{acc:.2f}%\")"
      ]
    },
    {
      "cell_type": "markdown",
      "id": "0a7c04e0",
      "metadata": {
        "id": "0a7c04e0"
      },
      "source": [
        "As the complexity of the model increases, the boundaries can better adapt to the **training set**."
      ]
    },
    {
      "cell_type": "markdown",
      "source": [
        "## **I.7. A multi-class classification problem**\n",
        "\n",
        "Now let's see how to generalize the approach to multiple classes:"
      ],
      "metadata": {
        "id": "Yy2IWDSGKEdh"
      },
      "id": "Yy2IWDSGKEdh"
    },
    {
      "cell_type": "code",
      "execution_count": null,
      "id": "187ff916",
      "metadata": {
        "id": "187ff916",
        "tags": []
      },
      "outputs": [],
      "source": [
        "n = 100\n",
        "std = 0.5\n",
        "# Sample 0:\n",
        "mean0 = torch.tensor((-1., -1.))\n",
        "ech0 = mean0 + std * torch.randn(n, 2)\n",
        "\n",
        "# Sample 1:\n",
        "mean1 = torch.tensor((1., -1.))\n",
        "ech1 = mean1 + std * torch.randn(n, 2)\n",
        "\n",
        "# Sample 2:\n",
        "mean2 = torch.tensor((0., 1.))\n",
        "ech2 = mean2 + std * torch.randn(n, 2)\n",
        "\n",
        "echs3 = [ech0, ech1, ech2]\n",
        "\n",
        "# Scatter plot:\n",
        "plt.figure(0)\n",
        "plt.axis([-3, 3, -3, 3])\n",
        "\n",
        "plt.title('data')\n",
        "colors = ['b', 'r', 'g']\n",
        "labels = ['0', '1', '2']\n",
        "\n",
        "for i, ech in enumerate(echs3):\n",
        "    x, y = ech.numpy()[:, 0], ech.numpy()[:, 1]\n",
        "    plt.scatter(x, y, color=colors[i])\n",
        "\n",
        "plt.legend(labels)"
      ]
    },
    {
      "cell_type": "markdown",
      "id": "0f32cbc0",
      "metadata": {
        "id": "0f32cbc0"
      },
      "source": [
        "To separate these points, we need to slightly modify the perceptron. To continue using the log-likelihood, the output layer will have as many neurons as classes. Additionally, to define a probability distribution, normalized exponentials are used (softmax function):\n",
        "\n",
        "$p_i = \\dfrac{e^{y_i}}{\\sum{e^{y_j}}}$\n",
        "  \n",
        "Where the $y_i$ are the outputs of the neurons in the last layer."
      ]
    },
    {
      "cell_type": "code",
      "execution_count": null,
      "id": "d320c067",
      "metadata": {
        "id": "d320c067"
      },
      "outputs": [],
      "source": [
        "class P6(nn.Module):\n",
        "\n",
        "    def __init__(self):\n",
        "        super(P6, self).__init__()\n",
        "        self.fc1 = nn.Linear(2, 2)  # First layer: 2 neurons\n",
        "        self.fc2 = nn.Linear(2, 3)  # Second layer: 3 neurons\n",
        "\n",
        "    def forward(self, x):\n",
        "        # Max pooling over a (2, 2) window\n",
        "        x = self.fc1(x)\n",
        "        x = x.relu()\n",
        "        x = self.fc2(x)\n",
        "        x = x.softmax(dim=1)\n",
        "        return x"
      ]
    },
    {
      "cell_type": "markdown",
      "id": "832ccf0e",
      "metadata": {
        "id": "832ccf0e"
      },
      "source": [
        "**Exercise 6:** Create datasets and dataloaders objects and check if it is possible to separate the points (test accuracy > 90%)."
      ]
    },
    {
      "cell_type": "code",
      "execution_count": null,
      "id": "93f403e4",
      "metadata": {
        "deletable": false,
        "id": "93f403e4",
        "nbgrader": {
          "cell_type": "code",
          "checksum": "2098c6d09146eb711fd7f230f1fb2f40",
          "grade": false,
          "grade_id": "exercise-5-1",
          "locked": false,
          "schema_version": 3,
          "solution": true,
          "task": false
        },
        "tags": []
      },
      "outputs": [],
      "source": [
        "### YOUR CODE HERE\n",
        "#\n",
        "#"
      ]
    },
    {
      "cell_type": "code",
      "execution_count": null,
      "id": "44077195",
      "metadata": {
        "deletable": false,
        "id": "44077195",
        "nbgrader": {
          "cell_type": "code",
          "checksum": "e533efa116d03805c84c1743fe3f45ba",
          "grade": false,
          "grade_id": "exercise-5-2",
          "locked": false,
          "schema_version": 3,
          "solution": true,
          "task": false
        },
        "tags": []
      },
      "outputs": [],
      "source": [
        "model = P6()\n",
        "### BEGIN SOLUTION\n",
        "#\n",
        "#"
      ]
    }
  ],
  "metadata": {
    "colab": {
      "provenance": []
    },
    "kernelspec": {
      "display_name": "Python 3",
      "name": "python3"
    },
    "language_info": {
      "codemirror_mode": {
        "name": "ipython",
        "version": 3
      },
      "file_extension": ".py",
      "mimetype": "text/x-python",
      "name": "python",
      "nbconvert_exporter": "python",
      "pygments_lexer": "ipython3",
      "version": "3.9.7"
    }
  },
  "nbformat": 4,
  "nbformat_minor": 5
}